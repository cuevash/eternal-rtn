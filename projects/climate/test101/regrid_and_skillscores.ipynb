{
 "cells": [
  {
   "cell_type": "markdown",
   "metadata": {
    "id": "bh7W_TKIbzs3"
   },
   "source": [
    "# Calculating correlation and skill score on C3S seasonal forecasts\n",
    "This notebook shows an example workflow on how to compute correlation and probabilistic skill scores with open source Python tools. \n",
    "This notebook has three sections:\n",
    "\n",
    "1.   How to prepare the environment\n",
    "2.   How to download the data from the CDS\n",
    "3.   The calculation of the scores\n",
    "\n",
    "This notebook has the aim to show the potentiality of a xarray-based workflow starting from the CDS data. The metrics shown are calculated in a naive way, without applying bias correction or any type of calibration.\n",
    "\n",
    "**Important note**: to download the files from the Copernicus Data Store (CDS) you need to use your API key ([see here](https://cds.climate.copernicus.eu/api-how-to))\n",
    "\n",
    "Author: [Matteo De Felice](http://matteodefelice.name) - [github](https://github.com/matteodefelice/c3s-xskillscore/)\n",
    "\n",
    "**UPDATE (March 2021)** Cartopy it doesn't install any more on Google Colab and my calculation of the Brier Skill Score is not compatible any more with the `xskillscore` functions (see https://github.com/xarray-contrib/xskillscore/issues/49)\n",
    "\n"
   ]
  },
  {
   "cell_type": "markdown",
   "metadata": {
    "id": "C5HYL2jdcLIW"
   },
   "source": [
    "## 1. Preparing the environment\n",
    "### 1.1 ecCodes and cartopy with apt\n",
    "The ECMWF ecCodes binary library is needed by `cfgrib` and the `cartopy` module is useful for maps (we prefer installing with ``apt-get`` due to potential issues with the version provided by Anaconda)."
   ]
  },
  {
   "cell_type": "code",
   "execution_count": 1,
   "metadata": {
    "id": "kyjSOwHXbwzX"
   },
   "outputs": [
    {
     "name": "stdout",
     "output_type": "stream",
     "text": [
      "zsh:1: command not found: apt-get\n"
     ]
    }
   ],
   "source": [
    "!apt-get -qq install -y libeccodes0 python-cartopy python3-cartopy"
   ]
  },
  {
   "cell_type": "markdown",
   "metadata": {
    "id": "Jw99rTrRaWL4"
   },
   "source": [
    "### 1.2 Installing Anaconda\n",
    "The module `esmpy` is not available via pip and will be installed from the `conda-forge` channel. All the other modules (except `cdsapi`) will be installed as well via anaconda. We follow the steps suggested in https://rjai.me/posts/google-colab-conda/"
   ]
  },
  {
   "cell_type": "code",
   "execution_count": 2,
   "metadata": {
    "colab": {
     "base_uri": "https://localhost:8080/"
    },
    "id": "YNbZzYvhZFa1",
    "outputId": "235679c7-a973-441c-83cf-fc3c6621954d"
   },
   "outputs": [
    {
     "name": "stdout",
     "output_type": "stream",
     "text": [
      "--2022-08-31 19:39:30--  https://repo.continuum.io/miniconda/Miniconda3-latest-Linux-x86_64.sh\n",
      "Resolving repo.continuum.io (repo.continuum.io)... 104.18.201.79, 104.18.200.79\n",
      "Connecting to repo.continuum.io (repo.continuum.io)|104.18.201.79|:443... connected.\n",
      "HTTP request sent, awaiting response... 301 Moved Permanently\n",
      "Location: https://repo.anaconda.com/miniconda/Miniconda3-latest-Linux-x86_64.sh [following]\n",
      "--2022-08-31 19:39:30--  https://repo.anaconda.com/miniconda/Miniconda3-latest-Linux-x86_64.sh\n",
      "Resolving repo.anaconda.com (repo.anaconda.com)... 104.16.131.3, 104.16.130.3\n",
      "Connecting to repo.anaconda.com (repo.anaconda.com)|104.16.131.3|:443... connected.\n",
      "HTTP request sent, awaiting response... 200 OK\n",
      "Length: 76607678 (73M) [application/x-sh]\n",
      "Saving to: ‘Miniconda3-latest-Linux-x86_64.sh’\n",
      "\n",
      "Miniconda3-latest-L 100%[===================>]  73.06M  14.5MB/s    in 4.5s    \n",
      "\n",
      "2022-08-31 19:39:34 (16.4 MB/s) - ‘Miniconda3-latest-Linux-x86_64.sh’ saved [76607678/76607678]\n",
      "\n",
      "PREFIX=/usr/local\n",
      "Miniconda3-latest-Linux-x86_64.sh: line 378: md5sum: command not found\n",
      "tail: stdout: Broken pipe\n",
      "WARNING: md5sum mismatch of tar archive\n",
      "expected: 0c82c9dd531785b1ca2af7f6b1c29523\n",
      "     got: \n",
      "Miniconda3-latest-Linux-x86_64.sh: line 400: /usr/local/conda.exe: Permission denied\n",
      "chmod: /usr/local/conda.exe: No such file or directory\n",
      "Unpacking payload ...\n",
      "Miniconda3-latest-Linux-x86_64.sh: line 412: /usr/local/conda.exe: No such file or directory\n",
      "Miniconda3-latest-Linux-x86_64.sh: line 414: /usr/local/conda.exe: No such file or directory\n"
     ]
    }
   ],
   "source": [
    "!wget https://repo.continuum.io/miniconda/Miniconda3-latest-Linux-x86_64.sh && bash Miniconda3-latest-Linux-x86_64.sh -bfp /usr/local\n"
   ]
  },
  {
   "cell_type": "code",
   "execution_count": 3,
   "metadata": {
    "colab": {
     "base_uri": "https://localhost:8080/"
    },
    "id": "OYTkiShoZSrB",
    "outputId": "56cebeac-0bfe-402d-858c-191935f5d31d"
   },
   "outputs": [
    {
     "name": "stdout",
     "output_type": "stream",
     "text": [
      "\n",
      "DirectoryNotACondaEnvironmentError: The target directory exists, but it is not a conda environment.\n",
      "Use 'conda create' to convert the directory to a conda environment.\n",
      "  target directory: /usr/local\n",
      "\n",
      "\n"
     ]
    }
   ],
   "source": [
    "!conda install -y -q --prefix /usr/local -c conda-forge esmpy=7.1.0 xesmf cdsapi cfgrib xskillscore matplotlib"
   ]
  },
  {
   "cell_type": "code",
   "execution_count": 4,
   "metadata": {
    "colab": {
     "base_uri": "https://localhost:8080/"
    },
    "id": "avdQHolUudQ6",
    "outputId": "1b585d2b-b55e-4db9-b0e9-65efd11779ff"
   },
   "outputs": [
    {
     "name": "stdout",
     "output_type": "stream",
     "text": [
      "\u001b[33mWARNING: Skipping shapely as it is not installed.\u001b[0m\u001b[33m\n",
      "\u001b[0mCollecting shapely\n",
      "  Downloading Shapely-1.8.4.tar.gz (199 kB)\n",
      "\u001b[2K     \u001b[38;2;114;156;31m━━━━━━━━━━━━━━━━━━━━━━━━━━━━━━━━━━━━━━━\u001b[0m \u001b[32m199.9/199.9 kB\u001b[0m \u001b[31m3.2 MB/s\u001b[0m eta \u001b[36m0:00:00\u001b[0m[31m5.0 MB/s\u001b[0m eta \u001b[36m0:00:01\u001b[0m\n",
      "\u001b[?25h  Installing build dependencies ... \u001b[?25ldone\n",
      "\u001b[33m  WARNING: Missing build requirements in pyproject.toml for shapely from https://files.pythonhosted.org/packages/b5/9a/625d4fc91ef85873801a16700840786117df4c016162a4532c998a7fe6bc/Shapely-1.8.4.tar.gz#sha256=a195e51caafa218291f2cbaa3fef69fd3353c93ec4b65b2a4722c4cf40c3198c.\u001b[0m\u001b[33m\n",
      "\u001b[0m\u001b[33m  WARNING: The project does not specify a build backend, and pip cannot fall back to setuptools without 'wheel'.\u001b[0m\u001b[33m\n",
      "\u001b[0m\u001b[?25h  Getting requirements to build wheel ... \u001b[?25ldone\n",
      "\u001b[?25h  Installing backend dependencies ... \u001b[?25ldone\n",
      "\u001b[?25h  Preparing metadata (pyproject.toml) ... \u001b[?25ldone\n",
      "\u001b[?25hBuilding wheels for collected packages: shapely\n",
      "  Building wheel for shapely (pyproject.toml) ... \u001b[?25l\\^C\n",
      "\u001b[?25canceled\n",
      "\u001b[31mERROR: Operation cancelled by user\u001b[0m\u001b[31m\n",
      "\u001b[0m"
     ]
    }
   ],
   "source": [
    "!pip uninstall -y shapely;    # cartopy and shapely aren't friends (early 2020)\n",
    "!pip install shapely --no-binary shapely;"
   ]
  },
  {
   "cell_type": "code",
   "execution_count": 5,
   "metadata": {
    "id": "3O2w0Tj-ZNQu"
   },
   "outputs": [],
   "source": [
    "import sys\n",
    "sys.path.append('/usr/local/lib/python3.8/site-packages')"
   ]
  },
  {
   "cell_type": "markdown",
   "metadata": {
    "id": "TWms-5N6crwL"
   },
   "source": [
    "## 2. Load the data\n",
    "Let's start importing all the needed Python modules. "
   ]
  },
  {
   "cell_type": "code",
   "execution_count": 6,
   "metadata": {
    "id": "Cs0QY6LgXvdj"
   },
   "outputs": [
    {
     "ename": "ModuleNotFoundError",
     "evalue": "No module named 'xskillscore'",
     "output_type": "error",
     "traceback": [
      "\u001b[0;31m---------------------------------------------------------------------------\u001b[0m",
      "\u001b[0;31mModuleNotFoundError\u001b[0m                       Traceback (most recent call last)",
      "Input \u001b[0;32mIn [6]\u001b[0m, in \u001b[0;36m<cell line: 2>\u001b[0;34m()\u001b[0m\n\u001b[1;32m      1\u001b[0m \u001b[38;5;28;01mimport\u001b[39;00m \u001b[38;5;21;01mxarray\u001b[39;00m \u001b[38;5;28;01mas\u001b[39;00m \u001b[38;5;21;01mxr\u001b[39;00m             \u001b[38;5;66;03m# to open and manipulate data arrays \u001b[39;00m\n\u001b[0;32m----> 2\u001b[0m \u001b[38;5;28;01mimport\u001b[39;00m \u001b[38;5;21;01mxskillscore\u001b[39;00m \u001b[38;5;28;01mas\u001b[39;00m \u001b[38;5;21;01mxs\u001b[39;00m        \u001b[38;5;66;03m# calculating skill scores\u001b[39;00m\n\u001b[1;32m      3\u001b[0m \u001b[38;5;28;01mimport\u001b[39;00m \u001b[38;5;21;01mxesmf\u001b[39;00m \u001b[38;5;28;01mas\u001b[39;00m \u001b[38;5;21;01mxe\u001b[39;00m              \u001b[38;5;66;03m# regridding\u001b[39;00m\n\u001b[1;32m      4\u001b[0m \u001b[38;5;28;01mimport\u001b[39;00m \u001b[38;5;21;01mnumpy\u001b[39;00m \u001b[38;5;28;01mas\u001b[39;00m \u001b[38;5;21;01mnp\u001b[39;00m\n",
      "\u001b[0;31mModuleNotFoundError\u001b[0m: No module named 'xskillscore'"
     ]
    }
   ],
   "source": [
    "import xarray as xr             # to open and manipulate data arrays \n",
    "import xskillscore as xs        # calculating skill scores\n",
    "import xesmf as xe              # regridding\n",
    "import numpy as np\n",
    "      \n",
    "import os\n",
    "import os.path\n",
    "from pathlib import Path"
   ]
  },
  {
   "cell_type": "code",
   "execution_count": null,
   "metadata": {
    "colab": {
     "base_uri": "https://localhost:8080/",
     "height": 549
    },
    "id": "xMFSAMUoXvdl",
    "outputId": "f0b19084-8a8a-45b8-9db5-8c697298fed9"
   },
   "outputs": [],
   "source": [
    "# Plot and mapping\n",
    "import matplotlib.pyplot as plt\n",
    "#import cartopy._crs as ccrs\n",
    "#import cartopy\n",
    "# Increase the size of the output figures\n",
    "plt.rcParams[\"figure.figsize\"] = (16,8)\n"
   ]
  },
  {
   "cell_type": "code",
   "execution_count": null,
   "metadata": {
    "id": "9_7TYBmuXvdo"
   },
   "outputs": [],
   "source": [
    "# To minimise the warnings\n",
    "import warnings\n",
    "warnings.simplefilter(action='ignore', category=FutureWarning)"
   ]
  },
  {
   "cell_type": "markdown",
   "metadata": {
    "id": "BBf7lrmHXvdq"
   },
   "source": [
    "### 2.1 Setting up the request for the CDS\n",
    "If you don't have an account on the [Copernicus Data Store](https://cds.climate.copernicus.eu/#!/home) you need to [register and install the API](https://cds.climate.copernicus.eu/api-how-to)\n",
    "\n",
    "**Important**: don't forget to insert your key in the following chunk of code"
   ]
  },
  {
   "cell_type": "code",
   "execution_count": null,
   "metadata": {
    "id": "APZ10hfOe3Pf"
   },
   "outputs": [],
   "source": [
    "!echo \"url: https://cds.climate.copernicus.eu/api/v2\" > $HOME/.cdsapirc\n",
    "#!echo \"key: {uid}:{api-key}\" >> $HOME/.cdsapirc\n",
    "!echo \"key: 145:41b67f11-96a6-4f77-babd-4538caeab15c\" >> $HOME/.cdsapirc"
   ]
  },
  {
   "cell_type": "code",
   "execution_count": null,
   "metadata": {
    "id": "2t3RiJM7Xvdq"
   },
   "outputs": [],
   "source": [
    "import cdsapi"
   ]
  },
  {
   "cell_type": "code",
   "execution_count": null,
   "metadata": {
    "id": "4LNm0UukXvds"
   },
   "outputs": [],
   "source": [
    "# create a new client\n",
    "c = cdsapi.Client()"
   ]
  },
  {
   "cell_type": "markdown",
   "metadata": {
    "id": "7wVraNCTXvdu"
   },
   "source": [
    "### 2.2 Download climate data: seasonal forecasts\n",
    "From the CDS you can download the [C3S Seasonal Forecasts](https://climate.copernicus.eu/seasonal-forecasts)"
   ]
  },
  {
   "cell_type": "markdown",
   "metadata": {
    "id": "iSjWUYDBXvdv"
   },
   "source": [
    "Let's define a list of the models and of the variables available"
   ]
  },
  {
   "cell_type": "code",
   "execution_count": null,
   "metadata": {
    "id": "RNN06oH7Xvdv"
   },
   "outputs": [],
   "source": [
    "MODELS = [\n",
    "    {'centre': 'ecmwf', 'name': 'ECMWF', 'system': '5', 'start_year': 1993, 'end_year': 2016},\n",
    "    {'centre': 'ukmo', 'name': 'UKMO', 'system': '14', 'start_year': 1993, 'end_year': 2016},\n",
    "    {'centre': 'meteo_france', 'name': 'MF', 'system': '6', 'start_year': 1993, 'end_year': 2016},\n",
    "    {'centre': 'dwd', 'name': 'DWD', 'system': '2', 'start_year': 1993, 'end_year': 2016},\n",
    "    {'centre': 'cmcc', 'name': 'CMCC', 'system': '3', 'start_year': 1993, 'end_year': 2016}\n",
    "]\n",
    "\n",
    "VARS = [\n",
    "    {'source': 'seasonal-monthly-single-levels', 'short_name': 'mslp', 'var': 'mean_sea_level_pressure', 'pressure_level': None, 'xarray_var':'msl'},\n",
    "    {'source': 'seasonal-monthly-single-levels', 'short_name': 'u10', 'var': '10m_u_component_of_wind', 'pressure_level': None, 'xarray_var':'u10'},\n",
    "    {'source': 'seasonal-monthly-single-levels', 'short_name': 'ws', 'var': '10m_wind_speed', 'pressure_level': None, 'xarray_var':'ws10'},\n",
    "    {'source': 'seasonal-monthly-single-levels', 'short_name': 't2m', 'var': '2m_temperature', 'pressure_level': None, 'xarray_var':'t2m'},\n",
    "    {'source': 'seasonal-monthly-single-levels', 'short_name': 'prec', 'var': 'total_precipitation', 'pressure_level': None, 'xarray_var':'tp'},\n",
    "    {'source': 'seasonal-monthly-single-levels', 'short_name': 'ssr', 'var': 'surface_solar_radiation', 'pressure_level': None, 'xarray_var':'ssr'}\n",
    "]"
   ]
  },
  {
   "cell_type": "markdown",
   "metadata": {
    "id": "NIBd5cWxXvdx"
   },
   "source": [
    "Now we select the starting month of the forecast, the model (selected from the `MODELS` dictionary) and the variable (from `VARS`)"
   ]
  },
  {
   "cell_type": "code",
   "execution_count": null,
   "metadata": {
    "id": "nczi7gLUXvdy"
   },
   "outputs": [],
   "source": [
    "START_MONTH = 1\n",
    "M  = MODELS[0]\n",
    "V  = VARS[0]"
   ]
  },
  {
   "cell_type": "markdown",
   "metadata": {
    "id": "1VXQCS4hXvd0"
   },
   "source": [
    "Now we can prepare the dictionary containing the request for the CDS API. We will download the monthly seasonal forecast from the starting month for the next 4 months (from M+0 to M+3)"
   ]
  },
  {
   "cell_type": "code",
   "execution_count": null,
   "metadata": {
    "colab": {
     "base_uri": "https://localhost:8080/"
    },
    "id": "C8IRJ_bwXvd0",
    "outputId": "35fa89de-db9b-4235-efbd-f867c0a59b66"
   },
   "outputs": [],
   "source": [
    "request_dict = {\n",
    "                'originating_centre': M['centre'],\n",
    "                'variable':V['var'],\n",
    "                'product_type':'monthly_mean',\n",
    "                'year':[x for x in map(str, range(M['start_year'], M['end_year']))],\n",
    "                'month': str(START_MONTH),\n",
    "                'leadtime_month':[\n",
    "                    '1', '2','3'\n",
    "                ],\n",
    "                'format':'grib',\n",
    "                'system': M['system']\n",
    "            }\n",
    "print(request_dict)"
   ]
  },
  {
   "cell_type": "markdown",
   "metadata": {
    "id": "EvLLdbqIXvd3"
   },
   "source": [
    "The request is sent and the file downloaded if not already present. The download from the CDS **may take up to one hour**"
   ]
  },
  {
   "cell_type": "code",
   "execution_count": null,
   "metadata": {
    "colab": {
     "base_uri": "https://localhost:8080/"
    },
    "id": "bJne57urXvd3",
    "outputId": "6f10a0e7-4dce-4d37-aa8d-b6c16256d573"
   },
   "outputs": [],
   "source": [
    "seasonal_target_filename = M['name']+'-'+V['short_name']+'-'+'S'+str(START_MONTH)+'-L1-3.grib'\n",
    "\n",
    "if not Path(seasonal_target_filename).exists():\n",
    "    print('Downloading ' + seasonal_target_filename)\n",
    "    c.retrieve(\n",
    "                V['source'],\n",
    "                request_dict,\n",
    "                seasonal_target_filename)\n",
    "else:\n",
    "    print('Using the file ' + seasonal_target_filename + ' already downloaded')"
   ]
  },
  {
   "cell_type": "markdown",
   "metadata": {
    "id": "Oc2Ak7y7Xvd5"
   },
   "source": [
    "### 2.3 Download ERA5\n",
    "Now we download the ERA5 data for the verification. "
   ]
  },
  {
   "cell_type": "code",
   "execution_count": null,
   "metadata": {
    "colab": {
     "base_uri": "https://localhost:8080/"
    },
    "id": "zH90VUphXvd6",
    "outputId": "b13b5fcf-b8a8-42a0-d151-c84ee7076550"
   },
   "outputs": [],
   "source": [
    "request_dict = {\n",
    "                'variable':V['var'],\n",
    "                'product_type':'monthly_averaged_reanalysis',\n",
    "                'year':[x for x in map(str, range(M['start_year'], M['end_year']))],\n",
    "                'month': [x for x in map(str, range(START_MONTH+1, START_MONTH+2+1))],\n",
    "                'format':'grib',\n",
    "                'time': '00:00'\n",
    "            }\n",
    "print(request_dict)"
   ]
  },
  {
   "cell_type": "markdown",
   "metadata": {
    "id": "hwOmceK0bDGI"
   },
   "source": []
  },
  {
   "cell_type": "code",
   "execution_count": null,
   "metadata": {
    "colab": {
     "base_uri": "https://localhost:8080/"
    },
    "id": "UJjabFC2Xvd8",
    "outputId": "4db9a0ff-b530-4e11-c728-caee3f729532"
   },
   "outputs": [],
   "source": [
    "era5_target_filename = 'era5-monthly-'+V['short_name']+'-'+str(M['start_year'])+'-'+str(M['end_year'])+'-'+'S'+str(START_MONTH)+'-L1-3.grib'\n",
    "if not Path(era5_target_filename).exists():\n",
    "    print('Downloading ' + era5_target_filename)\n",
    "    c.retrieve(\n",
    "                'reanalysis-era5-single-levels-monthly-means',\n",
    "                request_dict,\n",
    "                era5_target_filename)\n",
    "else:\n",
    "    print('Using the ERA5 file ' + era5_target_filename + ' already downloaded')"
   ]
  },
  {
   "cell_type": "markdown",
   "metadata": {
    "id": "B8PyoC1vXvd-"
   },
   "source": [
    "### 2.4 Regrid and compute\n",
    "We regrid seasonal forecasts and reanalysis on the same grid. For the seasonal forecasts (`ftc`) we also compute the ensemble mean (`fct_final_ensmean`)"
   ]
  },
  {
   "cell_type": "code",
   "execution_count": null,
   "metadata": {
    "id": "cw4sdxPdXvd-"
   },
   "outputs": [],
   "source": [
    "# Defining the grid\n",
    "ds_out = xr.Dataset({'lat': (['lat'], np.arange(-89, 89, 1)),\n",
    "                     'lon': (['lon'], np.arange(0, 360, 1))})"
   ]
  },
  {
   "cell_type": "code",
   "execution_count": null,
   "metadata": {
    "id": "LuImBxrDXveA"
   },
   "outputs": [],
   "source": [
    "fct = xr.open_dataset(seasonal_target_filename, engine='cfgrib').isel(step = slice(1,4)).mean(dim = 'step').rename({'latitude':'lat', 'longitude': 'lon'})"
   ]
  },
  {
   "cell_type": "code",
   "execution_count": null,
   "metadata": {
    "colab": {
     "base_uri": "https://localhost:8080/"
    },
    "id": "-6vnNF0oXveC",
    "outputId": "393a60f5-56b8-4d6b-ff12-bd70d8c84279"
   },
   "outputs": [],
   "source": [
    "  regridder = xe.Regridder(fct, ds_out, 'bilinear')"
   ]
  },
  {
   "cell_type": "code",
   "execution_count": null,
   "metadata": {
    "colab": {
     "base_uri": "https://localhost:8080/"
    },
    "id": "43SeisQQXveE",
    "outputId": "bf993da5-3409-4e91-dcbe-9ed11197d27e"
   },
   "outputs": [],
   "source": [
    "fct_final = regridder(fct)"
   ]
  },
  {
   "cell_type": "code",
   "execution_count": null,
   "metadata": {
    "id": "YdtRqFU6XveG"
   },
   "outputs": [],
   "source": [
    "fct_final_ensmean = fct_final.mean('number')"
   ]
  },
  {
   "cell_type": "code",
   "execution_count": null,
   "metadata": {
    "colab": {
     "base_uri": "https://localhost:8080/",
     "height": 266
    },
    "id": "xGm-G72sXveI",
    "outputId": "bac64143-a85f-45a6-d853-42bb905a2186"
   },
   "outputs": [],
   "source": [
    "fct_final_ensmean"
   ]
  },
  {
   "cell_type": "code",
   "execution_count": null,
   "metadata": {
    "id": "dB1yd5q8XveK"
   },
   "outputs": [],
   "source": [
    "obs = xr.open_dataset(era5_target_filename, engine = 'cfgrib')"
   ]
  },
  {
   "cell_type": "code",
   "execution_count": null,
   "metadata": {
    "id": "2CR9UKNHXveN"
   },
   "outputs": [],
   "source": [
    "obs_y = obs.groupby('time.year').mean('time').rename({'latitude':'lat', 'longitude': 'lon'})"
   ]
  },
  {
   "cell_type": "code",
   "execution_count": null,
   "metadata": {
    "colab": {
     "base_uri": "https://localhost:8080/"
    },
    "id": "qx2g9b06XveQ",
    "outputId": "8a097807-95a6-4974-d40c-fc2a29143358"
   },
   "outputs": [],
   "source": [
    "# REGRIDDING 1 DEGREE (OBS)\n",
    "regridder = xe.Regridder(obs_y, ds_out, 'bilinear')"
   ]
  },
  {
   "cell_type": "code",
   "execution_count": null,
   "metadata": {
    "colab": {
     "base_uri": "https://localhost:8080/"
    },
    "id": "zOex2Ib2XveS",
    "outputId": "61bde1b5-ca09-4f42-ecea-a2980e5aba8e"
   },
   "outputs": [],
   "source": [
    "obs_final = regridder(obs_y).rename({'year':'time'})"
   ]
  },
  {
   "cell_type": "code",
   "execution_count": null,
   "metadata": {
    "colab": {
     "base_uri": "https://localhost:8080/"
    },
    "id": "4m1Eb6DkXveU",
    "outputId": "0d669228-eaa3-412a-dcb9-7716f3c1c1eb"
   },
   "outputs": [],
   "source": [
    "obs_final['time'] = fct.time # this is needed because xskillscore expects \n",
    "print(obs_final)\n"
   ]
  },
  {
   "cell_type": "markdown",
   "metadata": {
    "id": "zsPhXpaIXveW"
   },
   "source": [
    "## 3. Calculating metrics and skill scores\n",
    "We compute in order:\n",
    "\n",
    "1.    Pearson correlation between observations and ensemble mean\n",
    "2.    Continuous Ranked Probability score (CRPS)\n",
    "3.    Brier Skill Score for the upper tercile\n",
    "\n",
    "All the skill scores are computed using `xskillscore` which uses `properscoring` for the probabilistic ones. "
   ]
  },
  {
   "cell_type": "code",
   "execution_count": null,
   "metadata": {
    "id": "PRutjoNOXveX"
   },
   "outputs": [],
   "source": [
    "r = xs.pearson_r(obs_final, fct_final_ensmean, \"time\")"
   ]
  },
  {
   "cell_type": "code",
   "execution_count": null,
   "metadata": {
    "colab": {
     "base_uri": "https://localhost:8080/",
     "height": 496
    },
    "id": "SdDBja1oXvea",
    "outputId": "c0aa7cd0-2641-4f8f-8b70-58038fa736a0"
   },
   "outputs": [],
   "source": [
    "#ax = plt.axes(projection=ccrs.Robinson())\n",
    "ax = plt.axes()\n",
    "#p = r[V['xarray_var']].plot(ax=ax, transform=ccrs.PlateCarree(), levels = [-1, 0, 0.3, 0.5, 0.6, 0.8, 0.9, 1], cmap = 'gnuplot')\n",
    "p = r[V['xarray_var']].plot(ax=ax,  levels = [-1, 0, 0.3, 0.5, 0.6, 0.8, 0.9, 1], cmap = 'gnuplot')\n",
    "#ax.set_global(); \n",
    "#ax.coastlines();"
   ]
  },
  {
   "cell_type": "code",
   "execution_count": null,
   "metadata": {
    "id": "a9TzYTJIXveb"
   },
   "outputs": [],
   "source": [
    "crps_ensemble = xs.crps_ensemble(obs_final, fct_final.rename({'number':'member'}), dim ='time')"
   ]
  },
  {
   "cell_type": "code",
   "execution_count": null,
   "metadata": {
    "colab": {
     "base_uri": "https://localhost:8080/",
     "height": 518
    },
    "id": "PfV-Cdy9Xvef",
    "outputId": "99fe7ff3-c557-4028-b390-f8685b25a033"
   },
   "outputs": [],
   "source": [
    "#ax = plt.axes(projection=ccrs.Robinson())\n",
    "ax = plt.axes()\n",
    "#crps_ensemble[V['xarray_var']].mean('time').plot(ax=ax, transform=ccrs.PlateCarree())\n",
    "crps_ensemble[V['xarray_var']].plot(ax=ax)\n",
    "#ax.set_global(); ax.coastlines();"
   ]
  },
  {
   "cell_type": "code",
   "execution_count": null,
   "metadata": {
    "id": "_qV2shXBXvei"
   },
   "outputs": [],
   "source": [
    "brier_score = xs.brier_score(obs_final >  obs_final.quantile(2/3, dim = 'time'), (fct_final > fct_final.quantile(2/3, dim = 'time')).mean(\"number\"), dim = 'time')\n"
   ]
  },
  {
   "cell_type": "code",
   "execution_count": null,
   "metadata": {
    "id": "iXzemwrrXvej"
   },
   "outputs": [],
   "source": [
    "baseline = xs.brier_score(obs_final >  obs_final.quantile(2/3, dim = 'time'), xr.DataArray(1/3), dim = 'time')"
   ]
  },
  {
   "cell_type": "code",
   "execution_count": null,
   "metadata": {
    "colab": {
     "base_uri": "https://localhost:8080/",
     "height": 516
    },
    "id": "MKuZSSb8Xvem",
    "outputId": "dbabcb4a-f084-4b3a-9f51-98b0f9d5d66f"
   },
   "outputs": [],
   "source": [
    "#ax = plt.axes(projection=ccrs.Orthographic(20, 35))\n",
    "#ax = plt.axes(projection=ccrs.Robinson())\n",
    "ax = plt.axes()\n",
    "#(1 - (brier_score/baseline)).mean(dim = 'time')[V['xarray_var']].plot(ax=ax, transform=ccrs.PlateCarree(), levels = [0, 0.01, 0.05, 0.1, 0.2, 0.3,  1], cmap = 'YlOrBr')\n",
    "(1 - (brier_score/baseline))[V['xarray_var']].plot(ax=ax, levels = [0, 0.01, 0.05, 0.1, 0.2, 0.3,  1], cmap = 'YlOrBr')\n",
    "#ax.set_global(); ax.coastlines();"
   ]
  },
  {
   "cell_type": "code",
   "execution_count": null,
   "metadata": {
    "id": "ODu3plkiv_CF"
   },
   "outputs": [],
   "source": []
  }
 ],
 "metadata": {
  "colab": {
   "collapsed_sections": [],
   "provenance": [],
   "toc_visible": true
  },
  "kernelspec": {
   "display_name": "Python 3",
   "language": "python",
   "name": "python3"
  },
  "language_info": {
   "codemirror_mode": {
    "name": "ipython",
    "version": 3
   },
   "file_extension": ".py",
   "mimetype": "text/x-python",
   "name": "python",
   "nbconvert_exporter": "python",
   "pygments_lexer": "ipython3",
   "version": "3.8.13"
  }
 },
 "nbformat": 4,
 "nbformat_minor": 4
}
