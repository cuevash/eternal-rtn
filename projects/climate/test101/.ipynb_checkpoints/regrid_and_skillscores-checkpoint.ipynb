{
  "nbformat": 4,
  "nbformat_minor": 0,
  "metadata": {
    "kernelspec": {
      "display_name": "Python 3",
      "language": "python",
      "name": "python3"
    },
    "language_info": {
      "codemirror_mode": {
        "name": "ipython",
        "version": 3
      },
      "file_extension": ".py",
      "mimetype": "text/x-python",
      "name": "python",
      "nbconvert_exporter": "python",
      "pygments_lexer": "ipython3",
      "version": "3.7.3"
    },
    "colab": {
      "provenance": [],
      "collapsed_sections": [],
      "toc_visible": true
    }
  },
  "cells": [
    {
      "cell_type": "markdown",
      "metadata": {
        "id": "bh7W_TKIbzs3"
      },
      "source": [
        "# Calculating correlation and skill score on C3S seasonal forecasts\n",
        "This notebook shows an example workflow on how to compute correlation and probabilistic skill scores with open source Python tools. \n",
        "This notebook has three sections:\n",
        "\n",
        "1.   How to prepare the environment\n",
        "2.   How to download the data from the CDS\n",
        "3.   The calculation of the scores\n",
        "\n",
        "This notebook has the aim to show the potentiality of a xarray-based workflow starting from the CDS data. The metrics shown are calculated in a naive way, without applying bias correction or any type of calibration.\n",
        "\n",
        "**Important note**: to download the files from the Copernicus Data Store (CDS) you need to use your API key ([see here](https://cds.climate.copernicus.eu/api-how-to))\n",
        "\n",
        "Author: [Matteo De Felice](http://matteodefelice.name) - [github](https://github.com/matteodefelice/c3s-xskillscore/)\n",
        "\n",
        "**UPDATE (March 2021)** Cartopy it doesn't install any more on Google Colab and my calculation of the Brier Skill Score is not compatible any more with the `xskillscore` functions (see https://github.com/xarray-contrib/xskillscore/issues/49)\n",
        "\n"
      ]
    },
    {
      "cell_type": "markdown",
      "metadata": {
        "id": "C5HYL2jdcLIW"
      },
      "source": [
        "## 1. Preparing the environment\n",
        "### 1.1 ecCodes and cartopy with apt\n",
        "The ECMWF ecCodes binary library is needed by `cfgrib` and the `cartopy` module is useful for maps (we prefer installing with ``apt-get`` due to potential issues with the version provided by Anaconda)."
      ]
    },
    {
      "cell_type": "code",
      "metadata": {
        "id": "kyjSOwHXbwzX"
      },
      "source": [
        "!apt-get -qq install -y libeccodes0 python-cartopy python3-cartopy"
      ],
      "execution_count": null,
      "outputs": []
    },
    {
      "cell_type": "markdown",
      "metadata": {
        "id": "Jw99rTrRaWL4"
      },
      "source": [
        "### 1.2 Installing Anaconda\n",
        "The module `esmpy` is not available via pip and will be installed from the `conda-forge` channel. All the other modules (except `cdsapi`) will be installed as well via anaconda. We follow the steps suggested in https://rjai.me/posts/google-colab-conda/"
      ]
    },
    {
      "cell_type": "code",
      "metadata": {
        "id": "YNbZzYvhZFa1",
        "colab": {
          "base_uri": "https://localhost:8080/"
        },
        "outputId": "235679c7-a973-441c-83cf-fc3c6621954d"
      },
      "source": [
        "!wget https://repo.continuum.io/miniconda/Miniconda3-latest-Linux-x86_64.sh && bash Miniconda3-latest-Linux-x86_64.sh -bfp /usr/local\n"
      ],
      "execution_count": null,
      "outputs": [
        {
          "output_type": "stream",
          "text": [
            "--2021-03-19 13:30:56--  https://repo.continuum.io/miniconda/Miniconda3-latest-Linux-x86_64.sh\n",
            "Resolving repo.continuum.io (repo.continuum.io)... 104.18.201.79, 104.18.200.79, 2606:4700::6812:c94f, ...\n",
            "Connecting to repo.continuum.io (repo.continuum.io)|104.18.201.79|:443... connected.\n",
            "HTTP request sent, awaiting response... 301 Moved Permanently\n",
            "Location: https://repo.anaconda.com/miniconda/Miniconda3-latest-Linux-x86_64.sh [following]\n",
            "--2021-03-19 13:30:56--  https://repo.anaconda.com/miniconda/Miniconda3-latest-Linux-x86_64.sh\n",
            "Resolving repo.anaconda.com (repo.anaconda.com)... 104.16.131.3, 104.16.130.3, 2606:4700::6810:8203, ...\n",
            "Connecting to repo.anaconda.com (repo.anaconda.com)|104.16.131.3|:443... connected.\n",
            "HTTP request sent, awaiting response... 200 OK\n",
            "Length: 94235922 (90M) [application/x-sh]\n",
            "Saving to: ‘Miniconda3-latest-Linux-x86_64.sh.1’\n",
            "\n",
            "Miniconda3-latest-L 100%[===================>]  89.87M   103MB/s    in 0.9s    \n",
            "\n",
            "2021-03-19 13:30:57 (103 MB/s) - ‘Miniconda3-latest-Linux-x86_64.sh.1’ saved [94235922/94235922]\n",
            "\n",
            "PREFIX=/usr/local\n",
            "Unpacking payload ...\n",
            "Collecting package metadata (current_repodata.json): - \b\b\\ \b\b| \b\b/ \b\b- \b\bdone\n",
            "Solving environment: | \b\b/ \b\b- \b\b\\ \b\b| \b\b/ \b\b- \b\b\\ \b\b| \b\b/ \b\b- \b\b\\ \b\b| \b\b/ \b\b- \b\b\\ \b\b| \b\b/ \b\b- \b\bdone\n",
            "\n",
            "## Package Plan ##\n",
            "\n",
            "  environment location: /usr/local\n",
            "\n",
            "  added / updated specs:\n",
            "    - _libgcc_mutex==0.1=main\n",
            "    - brotlipy==0.7.0=py38h27cfd23_1003\n",
            "    - ca-certificates==2020.10.14=0\n",
            "    - certifi==2020.6.20=pyhd3eb1b0_3\n",
            "    - cffi==1.14.3=py38h261ae71_2\n",
            "    - chardet==3.0.4=py38h06a4308_1003\n",
            "    - conda-package-handling==1.7.2=py38h03888b9_0\n",
            "    - conda==4.9.2=py38h06a4308_0\n",
            "    - cryptography==3.2.1=py38h3c74f83_1\n",
            "    - idna==2.10=py_0\n",
            "    - ld_impl_linux-64==2.33.1=h53a641e_7\n",
            "    - libedit==3.1.20191231=h14c3975_1\n",
            "    - libffi==3.3=he6710b0_2\n",
            "    - libgcc-ng==9.1.0=hdf63c60_0\n",
            "    - libstdcxx-ng==9.1.0=hdf63c60_0\n",
            "    - ncurses==6.2=he6710b0_1\n",
            "    - openssl==1.1.1h=h7b6447c_0\n",
            "    - pip==20.2.4=py38h06a4308_0\n",
            "    - pycosat==0.6.3=py38h7b6447c_1\n",
            "    - pycparser==2.20=py_2\n",
            "    - pyopenssl==19.1.0=pyhd3eb1b0_1\n",
            "    - pysocks==1.7.1=py38h06a4308_0\n",
            "    - python==3.8.5=h7579374_1\n",
            "    - readline==8.0=h7b6447c_0\n",
            "    - requests==2.24.0=py_0\n",
            "    - ruamel_yaml==0.15.87=py38h7b6447c_1\n",
            "    - setuptools==50.3.1=py38h06a4308_1\n",
            "    - six==1.15.0=py38h06a4308_0\n",
            "    - sqlite==3.33.0=h62c20be_0\n",
            "    - tk==8.6.10=hbc83047_0\n",
            "    - tqdm==4.51.0=pyhd3eb1b0_0\n",
            "    - urllib3==1.25.11=py_0\n",
            "    - wheel==0.35.1=pyhd3eb1b0_0\n",
            "    - xz==5.2.5=h7b6447c_0\n",
            "    - yaml==0.2.5=h7b6447c_0\n",
            "    - zlib==1.2.11=h7b6447c_3\n",
            "\n",
            "\n",
            "The following packages will be SUPERSEDED by a higher-priority channel:\n",
            "\n",
            "  ca-certificates    conda-forge::ca-certificates-2020.12.~ --> pkgs/main::ca-certificates-2020.10.14-0\n",
            "  certifi            conda-forge/linux-64::certifi-2020.12~ --> pkgs/main/noarch::certifi-2020.6.20-pyhd3eb1b0_3\n",
            "  conda              conda-forge::conda-4.9.2-py38h578d9bd~ --> pkgs/main::conda-4.9.2-py38h06a4308_0\n",
            "  openssl            conda-forge::openssl-1.1.1h-h516909a_0 --> pkgs/main::openssl-1.1.1h-h7b6447c_0\n",
            "\n",
            "\n",
            "Preparing transaction: | \b\bdone\n",
            "Executing transaction: - \b\b\\ \b\b| \b\b/ \b\b- \b\b\\ \b\b| \b\bdone\n",
            "installation finished.\n",
            "WARNING:\n",
            "    You currently have a PYTHONPATH environment variable set. This may cause\n",
            "    unexpected behavior when running the Python interpreter in Miniconda3.\n",
            "    For best results, please verify that your PYTHONPATH only points to\n",
            "    directories of packages that are compatible with the Python interpreter\n",
            "    in Miniconda3: /usr/local\n"
          ],
          "name": "stdout"
        }
      ]
    },
    {
      "cell_type": "code",
      "metadata": {
        "id": "OYTkiShoZSrB",
        "colab": {
          "base_uri": "https://localhost:8080/"
        },
        "outputId": "56cebeac-0bfe-402d-858c-191935f5d31d"
      },
      "source": [
        "!conda install -y -q --prefix /usr/local -c conda-forge esmpy=7.1.0 xesmf cdsapi cfgrib xskillscore matplotlib"
      ],
      "execution_count": null,
      "outputs": [
        {
          "output_type": "stream",
          "text": [
            "Collecting package metadata (current_repodata.json): ...working... done\n",
            "Solving environment: ...working... done\n",
            "\n",
            "## Package Plan ##\n",
            "\n",
            "  environment location: /usr/local\n",
            "\n",
            "  added / updated specs:\n",
            "    - cdsapi\n",
            "    - cfgrib\n",
            "    - esmpy=7.1.0\n",
            "    - matplotlib\n",
            "    - xesmf\n",
            "    - xskillscore\n",
            "\n",
            "\n",
            "The following packages will be downloaded:\n",
            "\n",
            "    package                    |            build\n",
            "    ---------------------------|-----------------\n",
            "    openssl-1.1.1j             |       h27cfd23_0         2.5 MB\n",
            "    ------------------------------------------------------------\n",
            "                                           Total:         2.5 MB\n",
            "\n",
            "The following packages will be UPDATED:\n",
            "\n",
            "  ca-certificates    pkgs/main::ca-certificates-2020.10.14~ --> conda-forge::ca-certificates-2020.12.5-ha878542_0\n",
            "  certifi            pkgs/main/noarch::certifi-2020.6.20-p~ --> conda-forge/linux-64::certifi-2020.12.5-py38h578d9bd_1\n",
            "  openssl                                 1.1.1h-h7b6447c_0 --> 1.1.1j-h27cfd23_0\n",
            "\n",
            "The following packages will be SUPERSEDED by a higher-priority channel:\n",
            "\n",
            "  conda               pkgs/main::conda-4.9.2-py38h06a4308_0 --> conda-forge::conda-4.9.2-py38h578d9bd_0\n",
            "\n",
            "\n",
            "Preparing transaction: ...working... done\n",
            "Verifying transaction: ...working... done\n",
            "Executing transaction: ...working... done\n"
          ],
          "name": "stdout"
        }
      ]
    },
    {
      "cell_type": "code",
      "metadata": {
        "colab": {
          "base_uri": "https://localhost:8080/"
        },
        "id": "avdQHolUudQ6",
        "outputId": "1b585d2b-b55e-4db9-b0e9-65efd11779ff"
      },
      "source": [
        "!pip uninstall -y shapely;    # cartopy and shapely aren't friends (early 2020)\n",
        "!pip install shapely --no-binary shapely;"
      ],
      "execution_count": null,
      "outputs": [
        {
          "output_type": "stream",
          "text": [
            "Found existing installation: Shapely 1.7.1\n",
            "Uninstalling Shapely-1.7.1:\n",
            "  Successfully uninstalled Shapely-1.7.1\n",
            "Collecting shapely\n",
            "  Downloading Shapely-1.7.1.tar.gz (383 kB)\n",
            "\u001b[K     |████████████████████████████████| 383 kB 4.8 MB/s \n",
            "\u001b[?25hSkipping wheel build for shapely, due to binaries being disabled for it.\n",
            "Installing collected packages: shapely\n",
            "    Running setup.py install for shapely ... \u001b[?25l\u001b[?25hdone\n",
            "Successfully installed shapely-1.7.1\n"
          ],
          "name": "stdout"
        }
      ]
    },
    {
      "cell_type": "code",
      "metadata": {
        "id": "3O2w0Tj-ZNQu"
      },
      "source": [
        "import sys\n",
        "sys.path.append('/usr/local/lib/python3.8/site-packages')"
      ],
      "execution_count": null,
      "outputs": []
    },
    {
      "cell_type": "markdown",
      "metadata": {
        "id": "TWms-5N6crwL"
      },
      "source": [
        "## 2. Load the data\n",
        "Let's start importing all the needed Python modules. "
      ]
    },
    {
      "cell_type": "code",
      "metadata": {
        "id": "Cs0QY6LgXvdj"
      },
      "source": [
        "import xarray as xr             # to open and manipulate data arrays \n",
        "import xskillscore as xs        # calculating skill scores\n",
        "import xesmf as xe              # regridding\n",
        "import numpy as np\n",
        "      \n",
        "import os\n",
        "import os.path\n",
        "from pathlib import Path"
      ],
      "execution_count": null,
      "outputs": []
    },
    {
      "cell_type": "code",
      "metadata": {
        "id": "xMFSAMUoXvdl",
        "colab": {
          "base_uri": "https://localhost:8080/",
          "height": 549
        },
        "outputId": "f0b19084-8a8a-45b8-9db5-8c697298fed9"
      },
      "source": [
        "# Plot and mapping\n",
        "import matplotlib.pyplot as plt\n",
        "#import cartopy._crs as ccrs\n",
        "#import cartopy\n",
        "# Increase the size of the output figures\n",
        "plt.rcParams[\"figure.figsize\"] = (16,8)\n"
      ],
      "execution_count": null,
      "outputs": [
        {
          "output_type": "error",
          "ename": "ModuleNotFoundError",
          "evalue": "ignored",
          "traceback": [
            "\u001b[0;31m---------------------------------------------------------------------------\u001b[0m",
            "\u001b[0;31mModuleNotFoundError\u001b[0m                       Traceback (most recent call last)",
            "\u001b[0;32m<ipython-input-7-4f1fa81f105c>\u001b[0m in \u001b[0;36m<module>\u001b[0;34m()\u001b[0m\n\u001b[1;32m      1\u001b[0m \u001b[0;31m# Plot and mapping\u001b[0m\u001b[0;34m\u001b[0m\u001b[0;34m\u001b[0m\u001b[0;34m\u001b[0m\u001b[0m\n\u001b[1;32m      2\u001b[0m \u001b[0;32mimport\u001b[0m \u001b[0mmatplotlib\u001b[0m\u001b[0;34m.\u001b[0m\u001b[0mpyplot\u001b[0m \u001b[0;32mas\u001b[0m \u001b[0mplt\u001b[0m\u001b[0;34m\u001b[0m\u001b[0;34m\u001b[0m\u001b[0m\n\u001b[0;32m----> 3\u001b[0;31m \u001b[0;32mimport\u001b[0m \u001b[0mcartopy\u001b[0m\u001b[0;34m.\u001b[0m\u001b[0m_crs\u001b[0m \u001b[0;32mas\u001b[0m \u001b[0mccrs\u001b[0m\u001b[0;34m\u001b[0m\u001b[0;34m\u001b[0m\u001b[0m\n\u001b[0m\u001b[1;32m      4\u001b[0m \u001b[0;32mimport\u001b[0m \u001b[0mcartopy\u001b[0m\u001b[0;34m\u001b[0m\u001b[0;34m\u001b[0m\u001b[0m\n\u001b[1;32m      5\u001b[0m \u001b[0;31m# Increase the size of the output figures\u001b[0m\u001b[0;34m\u001b[0m\u001b[0;34m\u001b[0m\u001b[0;34m\u001b[0m\u001b[0m\n",
            "\u001b[0;32m/usr/lib/python3/dist-packages/cartopy/__init__.py\u001b[0m in \u001b[0;36m<module>\u001b[0;34m()\u001b[0m\n\u001b[1;32m    108\u001b[0m \u001b[0;31m# Commonly used sub-modules. Imported here to provide end-user\u001b[0m\u001b[0;34m\u001b[0m\u001b[0;34m\u001b[0m\u001b[0;34m\u001b[0m\u001b[0m\n\u001b[1;32m    109\u001b[0m \u001b[0;31m# convenience.\u001b[0m\u001b[0;34m\u001b[0m\u001b[0;34m\u001b[0m\u001b[0;34m\u001b[0m\u001b[0m\n\u001b[0;32m--> 110\u001b[0;31m \u001b[0;32mimport\u001b[0m \u001b[0mcartopy\u001b[0m\u001b[0;34m.\u001b[0m\u001b[0mcrs\u001b[0m\u001b[0;34m\u001b[0m\u001b[0;34m\u001b[0m\u001b[0m\n\u001b[0m\u001b[1;32m    111\u001b[0m \u001b[0;32mimport\u001b[0m \u001b[0mcartopy\u001b[0m\u001b[0;34m.\u001b[0m\u001b[0mfeature\u001b[0m\u001b[0;34m\u001b[0m\u001b[0;34m\u001b[0m\u001b[0m\n",
            "\u001b[0;32m/usr/lib/python3/dist-packages/cartopy/crs.py\u001b[0m in \u001b[0;36m<module>\u001b[0;34m()\u001b[0m\n\u001b[1;32m     34\u001b[0m \u001b[0;32mimport\u001b[0m \u001b[0msix\u001b[0m\u001b[0;34m\u001b[0m\u001b[0;34m\u001b[0m\u001b[0m\n\u001b[1;32m     35\u001b[0m \u001b[0;34m\u001b[0m\u001b[0m\n\u001b[0;32m---> 36\u001b[0;31m \u001b[0;32mfrom\u001b[0m \u001b[0mcartopy\u001b[0m\u001b[0;34m.\u001b[0m\u001b[0m_crs\u001b[0m \u001b[0;32mimport\u001b[0m \u001b[0mCRS\u001b[0m\u001b[0;34m,\u001b[0m \u001b[0mGeocentric\u001b[0m\u001b[0;34m,\u001b[0m \u001b[0mGeodetic\u001b[0m\u001b[0;34m,\u001b[0m \u001b[0mGlobe\u001b[0m\u001b[0;34m,\u001b[0m \u001b[0mPROJ4_VERSION\u001b[0m\u001b[0;34m\u001b[0m\u001b[0;34m\u001b[0m\u001b[0m\n\u001b[0m\u001b[1;32m     37\u001b[0m \u001b[0;32mimport\u001b[0m \u001b[0mcartopy\u001b[0m\u001b[0;34m.\u001b[0m\u001b[0mtrace\u001b[0m\u001b[0;34m\u001b[0m\u001b[0;34m\u001b[0m\u001b[0m\n\u001b[1;32m     38\u001b[0m \u001b[0;34m\u001b[0m\u001b[0m\n",
            "\u001b[0;31mModuleNotFoundError\u001b[0m: No module named 'cartopy._crs'",
            "",
            "\u001b[0;31m---------------------------------------------------------------------------\u001b[0;32m\nNOTE: If your import is failing due to a missing package, you can\nmanually install dependencies using either !pip or !apt.\n\nTo view examples of installing some common dependencies, click the\n\"Open Examples\" button below.\n\u001b[0;31m---------------------------------------------------------------------------\u001b[0m\n"
          ]
        }
      ]
    },
    {
      "cell_type": "code",
      "metadata": {
        "id": "9_7TYBmuXvdo"
      },
      "source": [
        "# To minimise the warnings\n",
        "import warnings\n",
        "warnings.simplefilter(action='ignore', category=FutureWarning)"
      ],
      "execution_count": null,
      "outputs": []
    },
    {
      "cell_type": "markdown",
      "metadata": {
        "id": "BBf7lrmHXvdq"
      },
      "source": [
        "### 2.1 Setting up the request for the CDS\n",
        "If you don't have an account on the [Copernicus Data Store](https://cds.climate.copernicus.eu/#!/home) you need to [register and install the API](https://cds.climate.copernicus.eu/api-how-to)\n",
        "\n",
        "**Important**: don't forget to insert your key in the following chunk of code"
      ]
    },
    {
      "cell_type": "code",
      "metadata": {
        "id": "APZ10hfOe3Pf"
      },
      "source": [
        "!echo \"url: https://cds.climate.copernicus.eu/api/v2\" > $HOME/.cdsapirc\n",
        "#!echo \"key: {uid}:{api-key}\" >> $HOME/.cdsapirc\n",
        "!echo \"key: 145:41b67f11-96a6-4f77-babd-4538caeab15c\" >> $HOME/.cdsapirc"
      ],
      "execution_count": null,
      "outputs": []
    },
    {
      "cell_type": "code",
      "metadata": {
        "id": "2t3RiJM7Xvdq"
      },
      "source": [
        "import cdsapi"
      ],
      "execution_count": null,
      "outputs": []
    },
    {
      "cell_type": "code",
      "metadata": {
        "id": "4LNm0UukXvds"
      },
      "source": [
        "# create a new client\n",
        "c = cdsapi.Client()"
      ],
      "execution_count": null,
      "outputs": []
    },
    {
      "cell_type": "markdown",
      "metadata": {
        "id": "7wVraNCTXvdu"
      },
      "source": [
        "### 2.2 Download climate data: seasonal forecasts\n",
        "From the CDS you can download the [C3S Seasonal Forecasts](https://climate.copernicus.eu/seasonal-forecasts)"
      ]
    },
    {
      "cell_type": "markdown",
      "metadata": {
        "id": "iSjWUYDBXvdv"
      },
      "source": [
        "Let's define a list of the models and of the variables available"
      ]
    },
    {
      "cell_type": "code",
      "metadata": {
        "id": "RNN06oH7Xvdv"
      },
      "source": [
        "MODELS = [\n",
        "    {'centre': 'ecmwf', 'name': 'ECMWF', 'system': '5', 'start_year': 1993, 'end_year': 2016},\n",
        "    {'centre': 'ukmo', 'name': 'UKMO', 'system': '14', 'start_year': 1993, 'end_year': 2016},\n",
        "    {'centre': 'meteo_france', 'name': 'MF', 'system': '6', 'start_year': 1993, 'end_year': 2016},\n",
        "    {'centre': 'dwd', 'name': 'DWD', 'system': '2', 'start_year': 1993, 'end_year': 2016},\n",
        "    {'centre': 'cmcc', 'name': 'CMCC', 'system': '3', 'start_year': 1993, 'end_year': 2016}\n",
        "]\n",
        "\n",
        "VARS = [\n",
        "    {'source': 'seasonal-monthly-single-levels', 'short_name': 'mslp', 'var': 'mean_sea_level_pressure', 'pressure_level': None, 'xarray_var':'msl'},\n",
        "    {'source': 'seasonal-monthly-single-levels', 'short_name': 'u10', 'var': '10m_u_component_of_wind', 'pressure_level': None, 'xarray_var':'u10'},\n",
        "    {'source': 'seasonal-monthly-single-levels', 'short_name': 'ws', 'var': '10m_wind_speed', 'pressure_level': None, 'xarray_var':'ws10'},\n",
        "    {'source': 'seasonal-monthly-single-levels', 'short_name': 't2m', 'var': '2m_temperature', 'pressure_level': None, 'xarray_var':'t2m'},\n",
        "    {'source': 'seasonal-monthly-single-levels', 'short_name': 'prec', 'var': 'total_precipitation', 'pressure_level': None, 'xarray_var':'tp'},\n",
        "    {'source': 'seasonal-monthly-single-levels', 'short_name': 'ssr', 'var': 'surface_solar_radiation', 'pressure_level': None, 'xarray_var':'ssr'}\n",
        "]"
      ],
      "execution_count": null,
      "outputs": []
    },
    {
      "cell_type": "markdown",
      "metadata": {
        "id": "NIBd5cWxXvdx"
      },
      "source": [
        "Now we select the starting month of the forecast, the model (selected from the `MODELS` dictionary) and the variable (from `VARS`)"
      ]
    },
    {
      "cell_type": "code",
      "metadata": {
        "id": "nczi7gLUXvdy"
      },
      "source": [
        "START_MONTH = 1\n",
        "M  = MODELS[0]\n",
        "V  = VARS[0]"
      ],
      "execution_count": null,
      "outputs": []
    },
    {
      "cell_type": "markdown",
      "metadata": {
        "id": "1VXQCS4hXvd0"
      },
      "source": [
        "Now we can prepare the dictionary containing the request for the CDS API. We will download the monthly seasonal forecast from the starting month for the next 4 months (from M+0 to M+3)"
      ]
    },
    {
      "cell_type": "code",
      "metadata": {
        "id": "C8IRJ_bwXvd0",
        "colab": {
          "base_uri": "https://localhost:8080/"
        },
        "outputId": "35fa89de-db9b-4235-efbd-f867c0a59b66"
      },
      "source": [
        "request_dict = {\n",
        "                'originating_centre': M['centre'],\n",
        "                'variable':V['var'],\n",
        "                'product_type':'monthly_mean',\n",
        "                'year':[x for x in map(str, range(M['start_year'], M['end_year']))],\n",
        "                'month': str(START_MONTH),\n",
        "                'leadtime_month':[\n",
        "                    '1', '2','3'\n",
        "                ],\n",
        "                'format':'grib',\n",
        "                'system': M['system']\n",
        "            }\n",
        "print(request_dict)"
      ],
      "execution_count": null,
      "outputs": [
        {
          "output_type": "stream",
          "text": [
            "{'originating_centre': 'ecmwf', 'variable': 'mean_sea_level_pressure', 'product_type': 'monthly_mean', 'year': ['1993', '1994', '1995', '1996', '1997', '1998', '1999', '2000', '2001', '2002', '2003', '2004', '2005', '2006', '2007', '2008', '2009', '2010', '2011', '2012', '2013', '2014', '2015'], 'month': '1', 'leadtime_month': ['1', '2', '3'], 'format': 'grib', 'system': '5'}\n"
          ],
          "name": "stdout"
        }
      ]
    },
    {
      "cell_type": "markdown",
      "metadata": {
        "id": "EvLLdbqIXvd3"
      },
      "source": [
        "The request is sent and the file downloaded if not already present. The download from the CDS **may take up to one hour**"
      ]
    },
    {
      "cell_type": "code",
      "metadata": {
        "id": "bJne57urXvd3",
        "colab": {
          "base_uri": "https://localhost:8080/"
        },
        "outputId": "6f10a0e7-4dce-4d37-aa8d-b6c16256d573"
      },
      "source": [
        "seasonal_target_filename = M['name']+'-'+V['short_name']+'-'+'S'+str(START_MONTH)+'-L1-3.grib'\n",
        "\n",
        "if not Path(seasonal_target_filename).exists():\n",
        "    print('Downloading ' + seasonal_target_filename)\n",
        "    c.retrieve(\n",
        "                V['source'],\n",
        "                request_dict,\n",
        "                seasonal_target_filename)\n",
        "else:\n",
        "    print('Using the file ' + seasonal_target_filename + ' already downloaded')"
      ],
      "execution_count": null,
      "outputs": [
        {
          "output_type": "stream",
          "text": [
            "Downloading ECMWF-mslp-S1-L1-3.grib\n"
          ],
          "name": "stdout"
        },
        {
          "output_type": "stream",
          "text": [
            "2021-03-19 12:12:30,627 INFO Welcome to the CDS\n",
            "2021-03-19 12:12:30,628 INFO Sending request to https://cds.climate.copernicus.eu/api/v2/resources/seasonal-monthly-single-levels\n",
            "2021-03-19 12:12:30,832 INFO Request is completed\n",
            "2021-03-19 12:12:30,833 INFO Downloading https://download-0014.copernicus-climate.eu/cache-compute-0014/cache/data0/adaptor.mars.external-1616093797.846684-19291-15-48db3b72-d33c-4bd7-a8d4-8c5a6d106214.grib to ECMWF-mslp-S1-L1-3.grib (214.8M)\n",
            "2021-03-19 12:12:55,228 INFO Download rate 8.8M/s\n"
          ],
          "name": "stderr"
        }
      ]
    },
    {
      "cell_type": "markdown",
      "metadata": {
        "id": "Oc2Ak7y7Xvd5"
      },
      "source": [
        "### 2.3 Download ERA5\n",
        "Now we download the ERA5 data for the verification. "
      ]
    },
    {
      "cell_type": "code",
      "metadata": {
        "id": "zH90VUphXvd6",
        "colab": {
          "base_uri": "https://localhost:8080/"
        },
        "outputId": "b13b5fcf-b8a8-42a0-d151-c84ee7076550"
      },
      "source": [
        "request_dict = {\n",
        "                'variable':V['var'],\n",
        "                'product_type':'monthly_averaged_reanalysis',\n",
        "                'year':[x for x in map(str, range(M['start_year'], M['end_year']))],\n",
        "                'month': [x for x in map(str, range(START_MONTH+1, START_MONTH+2+1))],\n",
        "                'format':'grib',\n",
        "                'time': '00:00'\n",
        "            }\n",
        "print(request_dict)"
      ],
      "execution_count": null,
      "outputs": [
        {
          "output_type": "stream",
          "text": [
            "{'variable': 'mean_sea_level_pressure', 'product_type': 'monthly_averaged_reanalysis', 'year': ['1993', '1994', '1995', '1996', '1997', '1998', '1999', '2000', '2001', '2002', '2003', '2004', '2005', '2006', '2007', '2008', '2009', '2010', '2011', '2012', '2013', '2014', '2015'], 'month': ['2', '3'], 'format': 'grib', 'time': '00:00'}\n"
          ],
          "name": "stdout"
        }
      ]
    },
    {
      "cell_type": "markdown",
      "metadata": {
        "id": "hwOmceK0bDGI"
      },
      "source": []
    },
    {
      "cell_type": "code",
      "metadata": {
        "id": "UJjabFC2Xvd8",
        "colab": {
          "base_uri": "https://localhost:8080/"
        },
        "outputId": "4db9a0ff-b530-4e11-c728-caee3f729532"
      },
      "source": [
        "era5_target_filename = 'era5-monthly-'+V['short_name']+'-'+str(M['start_year'])+'-'+str(M['end_year'])+'-'+'S'+str(START_MONTH)+'-L1-3.grib'\n",
        "if not Path(era5_target_filename).exists():\n",
        "    print('Downloading ' + era5_target_filename)\n",
        "    c.retrieve(\n",
        "                'reanalysis-era5-single-levels-monthly-means',\n",
        "                request_dict,\n",
        "                era5_target_filename)\n",
        "else:\n",
        "    print('Using the ERA5 file ' + era5_target_filename + ' already downloaded')"
      ],
      "execution_count": null,
      "outputs": [
        {
          "output_type": "stream",
          "text": [
            "2021-03-19 12:12:55,472 INFO Welcome to the CDS\n",
            "2021-03-19 12:12:55,479 INFO Sending request to https://cds.climate.copernicus.eu/api/v2/resources/reanalysis-era5-single-levels-monthly-means\n"
          ],
          "name": "stderr"
        },
        {
          "output_type": "stream",
          "text": [
            "Downloading era5-monthly-mslp-1993-2016-S1-L1-3.grib\n"
          ],
          "name": "stdout"
        },
        {
          "output_type": "stream",
          "text": [
            "2021-03-19 12:12:56,022 INFO Downloading https://download-0008.copernicus-climate.eu/cache-compute-0008/cache/data7/adaptor.mars.internal-1616094012.1835456-14012-5-fa17766a-9ee4-46b3-847d-8e9e85c2c361.grib to era5-monthly-mslp-1993-2016-S1-L1-3.grib (91.1M)\n",
            "2021-03-19 12:13:01,819 INFO Download rate 15.7M/s\n"
          ],
          "name": "stderr"
        }
      ]
    },
    {
      "cell_type": "markdown",
      "metadata": {
        "id": "B8PyoC1vXvd-"
      },
      "source": [
        "### 2.4 Regrid and compute\n",
        "We regrid seasonal forecasts and reanalysis on the same grid. For the seasonal forecasts (`ftc`) we also compute the ensemble mean (`fct_final_ensmean`)"
      ]
    },
    {
      "cell_type": "code",
      "metadata": {
        "id": "cw4sdxPdXvd-"
      },
      "source": [
        "# Defining the grid\n",
        "ds_out = xr.Dataset({'lat': (['lat'], np.arange(-89, 89, 1)),\n",
        "                     'lon': (['lon'], np.arange(0, 360, 1))})"
      ],
      "execution_count": null,
      "outputs": []
    },
    {
      "cell_type": "code",
      "metadata": {
        "id": "LuImBxrDXveA"
      },
      "source": [
        "fct = xr.open_dataset(seasonal_target_filename, engine='cfgrib').isel(step = slice(1,4)).mean(dim = 'step').rename({'latitude':'lat', 'longitude': 'lon'})"
      ],
      "execution_count": null,
      "outputs": []
    },
    {
      "cell_type": "code",
      "metadata": {
        "id": "-6vnNF0oXveC",
        "colab": {
          "base_uri": "https://localhost:8080/"
        },
        "outputId": "393a60f5-56b8-4d6b-ff12-bd70d8c84279"
      },
      "source": [
        "  regridder = xe.Regridder(fct, ds_out, 'bilinear')"
      ],
      "execution_count": null,
      "outputs": [
        {
          "output_type": "stream",
          "text": [
            "Create weight file: bilinear_181x360_178x360.nc\n"
          ],
          "name": "stdout"
        }
      ]
    },
    {
      "cell_type": "code",
      "metadata": {
        "id": "43SeisQQXveE",
        "colab": {
          "base_uri": "https://localhost:8080/"
        },
        "outputId": "bf993da5-3409-4e91-dcbe-9ed11197d27e"
      },
      "source": [
        "fct_final = regridder(fct)"
      ],
      "execution_count": null,
      "outputs": [
        {
          "output_type": "stream",
          "text": [
            "using dimensions ('lat', 'lon') from data variable msl as the horizontal dimensions for this dataset.\n"
          ],
          "name": "stdout"
        }
      ]
    },
    {
      "cell_type": "code",
      "metadata": {
        "id": "YdtRqFU6XveG"
      },
      "source": [
        "fct_final_ensmean = fct_final.mean('number')"
      ],
      "execution_count": null,
      "outputs": []
    },
    {
      "cell_type": "code",
      "metadata": {
        "id": "xGm-G72sXveI",
        "colab": {
          "base_uri": "https://localhost:8080/",
          "height": 266
        },
        "outputId": "bac64143-a85f-45a6-d853-42bb905a2186"
      },
      "source": [
        "fct_final_ensmean"
      ],
      "execution_count": null,
      "outputs": [
        {
          "output_type": "execute_result",
          "data": {
            "text/html": [
              "<div><svg style=\"position: absolute; width: 0; height: 0; overflow: hidden\">\n",
              "<defs>\n",
              "<symbol id=\"icon-database\" viewBox=\"0 0 32 32\">\n",
              "<title>Show/Hide data repr</title>\n",
              "<path d=\"M16 0c-8.837 0-16 2.239-16 5v4c0 2.761 7.163 5 16 5s16-2.239 16-5v-4c0-2.761-7.163-5-16-5z\"></path>\n",
              "<path d=\"M16 17c-8.837 0-16-2.239-16-5v6c0 2.761 7.163 5 16 5s16-2.239 16-5v-6c0 2.761-7.163 5-16 5z\"></path>\n",
              "<path d=\"M16 26c-8.837 0-16-2.239-16-5v6c0 2.761 7.163 5 16 5s16-2.239 16-5v-6c0 2.761-7.163 5-16 5z\"></path>\n",
              "</symbol>\n",
              "<symbol id=\"icon-file-text2\" viewBox=\"0 0 32 32\">\n",
              "<title>Show/Hide attributes</title>\n",
              "<path d=\"M28.681 7.159c-0.694-0.947-1.662-2.053-2.724-3.116s-2.169-2.030-3.116-2.724c-1.612-1.182-2.393-1.319-2.841-1.319h-15.5c-1.378 0-2.5 1.121-2.5 2.5v27c0 1.378 1.122 2.5 2.5 2.5h23c1.378 0 2.5-1.122 2.5-2.5v-19.5c0-0.448-0.137-1.23-1.319-2.841zM24.543 5.457c0.959 0.959 1.712 1.825 2.268 2.543h-4.811v-4.811c0.718 0.556 1.584 1.309 2.543 2.268zM28 29.5c0 0.271-0.229 0.5-0.5 0.5h-23c-0.271 0-0.5-0.229-0.5-0.5v-27c0-0.271 0.229-0.5 0.5-0.5 0 0 15.499-0 15.5 0v7c0 0.552 0.448 1 1 1h7v19.5z\"></path>\n",
              "<path d=\"M23 26h-14c-0.552 0-1-0.448-1-1s0.448-1 1-1h14c0.552 0 1 0.448 1 1s-0.448 1-1 1z\"></path>\n",
              "<path d=\"M23 22h-14c-0.552 0-1-0.448-1-1s0.448-1 1-1h14c0.552 0 1 0.448 1 1s-0.448 1-1 1z\"></path>\n",
              "<path d=\"M23 18h-14c-0.552 0-1-0.448-1-1s0.448-1 1-1h14c0.552 0 1 0.448 1 1s-0.448 1-1 1z\"></path>\n",
              "</symbol>\n",
              "</defs>\n",
              "</svg>\n",
              "<style>/* CSS stylesheet for displaying xarray objects in jupyterlab.\n",
              " *\n",
              " */\n",
              "\n",
              ":root {\n",
              "  --xr-font-color0: var(--jp-content-font-color0, rgba(0, 0, 0, 1));\n",
              "  --xr-font-color2: var(--jp-content-font-color2, rgba(0, 0, 0, 0.54));\n",
              "  --xr-font-color3: var(--jp-content-font-color3, rgba(0, 0, 0, 0.38));\n",
              "  --xr-border-color: var(--jp-border-color2, #e0e0e0);\n",
              "  --xr-disabled-color: var(--jp-layout-color3, #bdbdbd);\n",
              "  --xr-background-color: var(--jp-layout-color0, white);\n",
              "  --xr-background-color-row-even: var(--jp-layout-color1, white);\n",
              "  --xr-background-color-row-odd: var(--jp-layout-color2, #eeeeee);\n",
              "}\n",
              "\n",
              ".xr-wrap {\n",
              "  min-width: 300px;\n",
              "  max-width: 700px;\n",
              "}\n",
              "\n",
              ".xr-header {\n",
              "  padding-top: 6px;\n",
              "  padding-bottom: 6px;\n",
              "  margin-bottom: 4px;\n",
              "  border-bottom: solid 1px var(--xr-border-color);\n",
              "}\n",
              "\n",
              ".xr-header > div,\n",
              ".xr-header > ul {\n",
              "  display: inline;\n",
              "  margin-top: 0;\n",
              "  margin-bottom: 0;\n",
              "}\n",
              "\n",
              ".xr-obj-type,\n",
              ".xr-array-name {\n",
              "  margin-left: 2px;\n",
              "  margin-right: 10px;\n",
              "}\n",
              "\n",
              ".xr-obj-type {\n",
              "  color: var(--xr-font-color2);\n",
              "}\n",
              "\n",
              ".xr-sections {\n",
              "  padding-left: 0 !important;\n",
              "  display: grid;\n",
              "  grid-template-columns: 150px auto auto 1fr 20px 20px;\n",
              "}\n",
              "\n",
              ".xr-section-item {\n",
              "  display: contents;\n",
              "}\n",
              "\n",
              ".xr-section-item input {\n",
              "  display: none;\n",
              "}\n",
              "\n",
              ".xr-section-item input + label {\n",
              "  color: var(--xr-disabled-color);\n",
              "}\n",
              "\n",
              ".xr-section-item input:enabled + label {\n",
              "  cursor: pointer;\n",
              "  color: var(--xr-font-color2);\n",
              "}\n",
              "\n",
              ".xr-section-item input:enabled + label:hover {\n",
              "  color: var(--xr-font-color0);\n",
              "}\n",
              "\n",
              ".xr-section-summary {\n",
              "  grid-column: 1;\n",
              "  color: var(--xr-font-color2);\n",
              "  font-weight: 500;\n",
              "}\n",
              "\n",
              ".xr-section-summary > span {\n",
              "  display: inline-block;\n",
              "  padding-left: 0.5em;\n",
              "}\n",
              "\n",
              ".xr-section-summary-in:disabled + label {\n",
              "  color: var(--xr-font-color2);\n",
              "}\n",
              "\n",
              ".xr-section-summary-in + label:before {\n",
              "  display: inline-block;\n",
              "  content: '►';\n",
              "  font-size: 11px;\n",
              "  width: 15px;\n",
              "  text-align: center;\n",
              "}\n",
              "\n",
              ".xr-section-summary-in:disabled + label:before {\n",
              "  color: var(--xr-disabled-color);\n",
              "}\n",
              "\n",
              ".xr-section-summary-in:checked + label:before {\n",
              "  content: '▼';\n",
              "}\n",
              "\n",
              ".xr-section-summary-in:checked + label > span {\n",
              "  display: none;\n",
              "}\n",
              "\n",
              ".xr-section-summary,\n",
              ".xr-section-inline-details {\n",
              "  padding-top: 4px;\n",
              "  padding-bottom: 4px;\n",
              "}\n",
              "\n",
              ".xr-section-inline-details {\n",
              "  grid-column: 2 / -1;\n",
              "}\n",
              "\n",
              ".xr-section-details {\n",
              "  display: none;\n",
              "  grid-column: 1 / -1;\n",
              "  margin-bottom: 5px;\n",
              "}\n",
              "\n",
              ".xr-section-summary-in:checked ~ .xr-section-details {\n",
              "  display: contents;\n",
              "}\n",
              "\n",
              ".xr-array-wrap {\n",
              "  grid-column: 1 / -1;\n",
              "  display: grid;\n",
              "  grid-template-columns: 20px auto;\n",
              "}\n",
              "\n",
              ".xr-array-wrap > label {\n",
              "  grid-column: 1;\n",
              "  vertical-align: top;\n",
              "}\n",
              "\n",
              ".xr-preview {\n",
              "  color: var(--xr-font-color3);\n",
              "}\n",
              "\n",
              ".xr-array-preview,\n",
              ".xr-array-data {\n",
              "  padding: 0 5px !important;\n",
              "  grid-column: 2;\n",
              "}\n",
              "\n",
              ".xr-array-data,\n",
              ".xr-array-in:checked ~ .xr-array-preview {\n",
              "  display: none;\n",
              "}\n",
              "\n",
              ".xr-array-in:checked ~ .xr-array-data,\n",
              ".xr-array-preview {\n",
              "  display: inline-block;\n",
              "}\n",
              "\n",
              ".xr-dim-list {\n",
              "  display: inline-block !important;\n",
              "  list-style: none;\n",
              "  padding: 0 !important;\n",
              "  margin: 0;\n",
              "}\n",
              "\n",
              ".xr-dim-list li {\n",
              "  display: inline-block;\n",
              "  padding: 0;\n",
              "  margin: 0;\n",
              "}\n",
              "\n",
              ".xr-dim-list:before {\n",
              "  content: '(';\n",
              "}\n",
              "\n",
              ".xr-dim-list:after {\n",
              "  content: ')';\n",
              "}\n",
              "\n",
              ".xr-dim-list li:not(:last-child):after {\n",
              "  content: ',';\n",
              "  padding-right: 5px;\n",
              "}\n",
              "\n",
              ".xr-has-index {\n",
              "  font-weight: bold;\n",
              "}\n",
              "\n",
              ".xr-var-list,\n",
              ".xr-var-item {\n",
              "  display: contents;\n",
              "}\n",
              "\n",
              ".xr-var-item > div,\n",
              ".xr-var-item label,\n",
              ".xr-var-item > .xr-var-name span {\n",
              "  background-color: var(--xr-background-color-row-even);\n",
              "  margin-bottom: 0;\n",
              "}\n",
              "\n",
              ".xr-var-item > .xr-var-name:hover span {\n",
              "  padding-right: 5px;\n",
              "}\n",
              "\n",
              ".xr-var-list > li:nth-child(odd) > div,\n",
              ".xr-var-list > li:nth-child(odd) > label,\n",
              ".xr-var-list > li:nth-child(odd) > .xr-var-name span {\n",
              "  background-color: var(--xr-background-color-row-odd);\n",
              "}\n",
              "\n",
              ".xr-var-name {\n",
              "  grid-column: 1;\n",
              "}\n",
              "\n",
              ".xr-var-dims {\n",
              "  grid-column: 2;\n",
              "}\n",
              "\n",
              ".xr-var-dtype {\n",
              "  grid-column: 3;\n",
              "  text-align: right;\n",
              "  color: var(--xr-font-color2);\n",
              "}\n",
              "\n",
              ".xr-var-preview {\n",
              "  grid-column: 4;\n",
              "}\n",
              "\n",
              ".xr-var-name,\n",
              ".xr-var-dims,\n",
              ".xr-var-dtype,\n",
              ".xr-preview,\n",
              ".xr-attrs dt {\n",
              "  white-space: nowrap;\n",
              "  overflow: hidden;\n",
              "  text-overflow: ellipsis;\n",
              "  padding-right: 10px;\n",
              "}\n",
              "\n",
              ".xr-var-name:hover,\n",
              ".xr-var-dims:hover,\n",
              ".xr-var-dtype:hover,\n",
              ".xr-attrs dt:hover {\n",
              "  overflow: visible;\n",
              "  width: auto;\n",
              "  z-index: 1;\n",
              "}\n",
              "\n",
              ".xr-var-attrs,\n",
              ".xr-var-data {\n",
              "  display: none;\n",
              "  background-color: var(--xr-background-color) !important;\n",
              "  padding-bottom: 5px !important;\n",
              "}\n",
              "\n",
              ".xr-var-attrs-in:checked ~ .xr-var-attrs,\n",
              ".xr-var-data-in:checked ~ .xr-var-data {\n",
              "  display: block;\n",
              "}\n",
              "\n",
              ".xr-var-data > table {\n",
              "  float: right;\n",
              "}\n",
              "\n",
              ".xr-var-name span,\n",
              ".xr-var-data,\n",
              ".xr-attrs {\n",
              "  padding-left: 25px !important;\n",
              "}\n",
              "\n",
              ".xr-attrs,\n",
              ".xr-var-attrs,\n",
              ".xr-var-data {\n",
              "  grid-column: 1 / -1;\n",
              "}\n",
              "\n",
              "dl.xr-attrs {\n",
              "  padding: 0;\n",
              "  margin: 0;\n",
              "  display: grid;\n",
              "  grid-template-columns: 125px auto;\n",
              "}\n",
              "\n",
              ".xr-attrs dt, dd {\n",
              "  padding: 0;\n",
              "  margin: 0;\n",
              "  float: left;\n",
              "  padding-right: 10px;\n",
              "  width: auto;\n",
              "}\n",
              "\n",
              ".xr-attrs dt {\n",
              "  font-weight: normal;\n",
              "  grid-column: 1;\n",
              "}\n",
              "\n",
              ".xr-attrs dt:hover span {\n",
              "  display: inline-block;\n",
              "  background: var(--xr-background-color);\n",
              "  padding-right: 10px;\n",
              "}\n",
              "\n",
              ".xr-attrs dd {\n",
              "  grid-column: 2;\n",
              "  white-space: pre-wrap;\n",
              "  word-break: break-all;\n",
              "}\n",
              "\n",
              ".xr-icon-database,\n",
              ".xr-icon-file-text2 {\n",
              "  display: inline-block;\n",
              "  vertical-align: middle;\n",
              "  width: 1em;\n",
              "  height: 1.5em !important;\n",
              "  stroke-width: 0;\n",
              "  stroke: currentColor;\n",
              "  fill: currentColor;\n",
              "}\n",
              "</style><div class='xr-wrap'><div class='xr-header'><div class='xr-obj-type'>xarray.Dataset</div></div><ul class='xr-sections'><li class='xr-section-item'><input id='section-bbd3d7ed-6a5a-43c6-a6fb-909a5485fdaf' class='xr-section-summary-in' type='checkbox' disabled ><label for='section-bbd3d7ed-6a5a-43c6-a6fb-909a5485fdaf' class='xr-section-summary'  title='Expand/collapse section'>Dimensions:</label><div class='xr-section-inline-details'><ul class='xr-dim-list'><li><span class='xr-has-index'>lat</span>: 178</li><li><span class='xr-has-index'>lon</span>: 360</li><li><span class='xr-has-index'>time</span>: 23</li></ul></div><div class='xr-section-details'></div></li><li class='xr-section-item'><input id='section-e2f38b97-570f-4dad-baf0-edd5b193c5b0' class='xr-section-summary-in' type='checkbox'  checked><label for='section-e2f38b97-570f-4dad-baf0-edd5b193c5b0' class='xr-section-summary' >Coordinates: <span>(4)</span></label><div class='xr-section-inline-details'></div><div class='xr-section-details'><ul class='xr-var-list'><li class='xr-var-item'><div class='xr-var-name'><span class='xr-has-index'>time</span></div><div class='xr-var-dims'>(time)</div><div class='xr-var-dtype'>datetime64[ns]</div><div class='xr-var-preview xr-preview'>1993-01-01 ... 2015-01-01</div><input id='attrs-f44a159e-21d4-40c5-9edd-4182ef8f15c2' class='xr-var-attrs-in' type='checkbox' ><label for='attrs-f44a159e-21d4-40c5-9edd-4182ef8f15c2' title='Show/Hide attributes'><svg class='icon xr-icon-file-text2'><use xlink:href='#icon-file-text2'></use></svg></label><input id='data-fc2c3d20-235f-4403-924e-c3f3ee9824db' class='xr-var-data-in' type='checkbox'><label for='data-fc2c3d20-235f-4403-924e-c3f3ee9824db' title='Show/Hide data repr'><svg class='icon xr-icon-database'><use xlink:href='#icon-database'></use></svg></label><div class='xr-var-attrs'><dl class='xr-attrs'><dt><span>long_name :</span></dt><dd>initial time of forecast</dd><dt><span>standard_name :</span></dt><dd>forecast_reference_time</dd></dl></div><pre class='xr-var-data'>array([&#x27;1993-01-01T00:00:00.000000000&#x27;, &#x27;1994-01-01T00:00:00.000000000&#x27;,\n",
              "       &#x27;1995-01-01T00:00:00.000000000&#x27;, &#x27;1996-01-01T00:00:00.000000000&#x27;,\n",
              "       &#x27;1997-01-01T00:00:00.000000000&#x27;, &#x27;1998-01-01T00:00:00.000000000&#x27;,\n",
              "       &#x27;1999-01-01T00:00:00.000000000&#x27;, &#x27;2000-01-01T00:00:00.000000000&#x27;,\n",
              "       &#x27;2001-01-01T00:00:00.000000000&#x27;, &#x27;2002-01-01T00:00:00.000000000&#x27;,\n",
              "       &#x27;2003-01-01T00:00:00.000000000&#x27;, &#x27;2004-01-01T00:00:00.000000000&#x27;,\n",
              "       &#x27;2005-01-01T00:00:00.000000000&#x27;, &#x27;2006-01-01T00:00:00.000000000&#x27;,\n",
              "       &#x27;2007-01-01T00:00:00.000000000&#x27;, &#x27;2008-01-01T00:00:00.000000000&#x27;,\n",
              "       &#x27;2009-01-01T00:00:00.000000000&#x27;, &#x27;2010-01-01T00:00:00.000000000&#x27;,\n",
              "       &#x27;2011-01-01T00:00:00.000000000&#x27;, &#x27;2012-01-01T00:00:00.000000000&#x27;,\n",
              "       &#x27;2013-01-01T00:00:00.000000000&#x27;, &#x27;2014-01-01T00:00:00.000000000&#x27;,\n",
              "       &#x27;2015-01-01T00:00:00.000000000&#x27;], dtype=&#x27;datetime64[ns]&#x27;)</pre></li><li class='xr-var-item'><div class='xr-var-name'><span>surface</span></div><div class='xr-var-dims'>()</div><div class='xr-var-dtype'>int64</div><div class='xr-var-preview xr-preview'>...</div><input id='attrs-0b1a3f0e-5a02-47bc-b997-40950ac1e512' class='xr-var-attrs-in' type='checkbox' ><label for='attrs-0b1a3f0e-5a02-47bc-b997-40950ac1e512' title='Show/Hide attributes'><svg class='icon xr-icon-file-text2'><use xlink:href='#icon-file-text2'></use></svg></label><input id='data-e3b8e0d3-0ca7-48f6-a8e2-fbdaddfd6304' class='xr-var-data-in' type='checkbox'><label for='data-e3b8e0d3-0ca7-48f6-a8e2-fbdaddfd6304' title='Show/Hide data repr'><svg class='icon xr-icon-database'><use xlink:href='#icon-database'></use></svg></label><div class='xr-var-attrs'><dl class='xr-attrs'><dt><span>long_name :</span></dt><dd>original GRIB coordinate for key: level(surface)</dd><dt><span>units :</span></dt><dd>1</dd></dl></div><pre class='xr-var-data'>array(0)</pre></li><li class='xr-var-item'><div class='xr-var-name'><span class='xr-has-index'>lon</span></div><div class='xr-var-dims'>(lon)</div><div class='xr-var-dtype'>int64</div><div class='xr-var-preview xr-preview'>0 1 2 3 4 5 ... 355 356 357 358 359</div><input id='attrs-ffc0f122-8e99-43e5-b3df-6b46bba8210e' class='xr-var-attrs-in' type='checkbox' disabled><label for='attrs-ffc0f122-8e99-43e5-b3df-6b46bba8210e' title='Show/Hide attributes'><svg class='icon xr-icon-file-text2'><use xlink:href='#icon-file-text2'></use></svg></label><input id='data-057d8545-07aa-4442-8ac9-5fe1aeeb122c' class='xr-var-data-in' type='checkbox'><label for='data-057d8545-07aa-4442-8ac9-5fe1aeeb122c' title='Show/Hide data repr'><svg class='icon xr-icon-database'><use xlink:href='#icon-database'></use></svg></label><div class='xr-var-attrs'><dl class='xr-attrs'></dl></div><pre class='xr-var-data'>array([  0,   1,   2, ..., 357, 358, 359])</pre></li><li class='xr-var-item'><div class='xr-var-name'><span class='xr-has-index'>lat</span></div><div class='xr-var-dims'>(lat)</div><div class='xr-var-dtype'>int64</div><div class='xr-var-preview xr-preview'>-89 -88 -87 -86 -85 ... 85 86 87 88</div><input id='attrs-f1bdb9ba-d7d7-4e41-b349-6f819061318c' class='xr-var-attrs-in' type='checkbox' disabled><label for='attrs-f1bdb9ba-d7d7-4e41-b349-6f819061318c' title='Show/Hide attributes'><svg class='icon xr-icon-file-text2'><use xlink:href='#icon-file-text2'></use></svg></label><input id='data-41636cee-4b72-4a99-a0a3-791f86628a93' class='xr-var-data-in' type='checkbox'><label for='data-41636cee-4b72-4a99-a0a3-791f86628a93' title='Show/Hide data repr'><svg class='icon xr-icon-database'><use xlink:href='#icon-database'></use></svg></label><div class='xr-var-attrs'><dl class='xr-attrs'></dl></div><pre class='xr-var-data'>array([-89, -88, -87, -86, -85, -84, -83, -82, -81, -80, -79, -78, -77, -76,\n",
              "       -75, -74, -73, -72, -71, -70, -69, -68, -67, -66, -65, -64, -63, -62,\n",
              "       -61, -60, -59, -58, -57, -56, -55, -54, -53, -52, -51, -50, -49, -48,\n",
              "       -47, -46, -45, -44, -43, -42, -41, -40, -39, -38, -37, -36, -35, -34,\n",
              "       -33, -32, -31, -30, -29, -28, -27, -26, -25, -24, -23, -22, -21, -20,\n",
              "       -19, -18, -17, -16, -15, -14, -13, -12, -11, -10,  -9,  -8,  -7,  -6,\n",
              "        -5,  -4,  -3,  -2,  -1,   0,   1,   2,   3,   4,   5,   6,   7,   8,\n",
              "         9,  10,  11,  12,  13,  14,  15,  16,  17,  18,  19,  20,  21,  22,\n",
              "        23,  24,  25,  26,  27,  28,  29,  30,  31,  32,  33,  34,  35,  36,\n",
              "        37,  38,  39,  40,  41,  42,  43,  44,  45,  46,  47,  48,  49,  50,\n",
              "        51,  52,  53,  54,  55,  56,  57,  58,  59,  60,  61,  62,  63,  64,\n",
              "        65,  66,  67,  68,  69,  70,  71,  72,  73,  74,  75,  76,  77,  78,\n",
              "        79,  80,  81,  82,  83,  84,  85,  86,  87,  88])</pre></li></ul></div></li><li class='xr-section-item'><input id='section-da8081e9-b647-404a-b126-4669a1d4fec0' class='xr-section-summary-in' type='checkbox'  checked><label for='section-da8081e9-b647-404a-b126-4669a1d4fec0' class='xr-section-summary' >Data variables: <span>(1)</span></label><div class='xr-section-inline-details'></div><div class='xr-section-details'><ul class='xr-var-list'><li class='xr-var-item'><div class='xr-var-name'><span>msl</span></div><div class='xr-var-dims'>(time, lat, lon)</div><div class='xr-var-dtype'>float64</div><div class='xr-var-preview xr-preview'>1.011e+05 1.011e+05 ... 1.017e+05</div><input id='attrs-1cadcb61-918f-4abb-b596-ae44729e7b07' class='xr-var-attrs-in' type='checkbox' disabled><label for='attrs-1cadcb61-918f-4abb-b596-ae44729e7b07' title='Show/Hide attributes'><svg class='icon xr-icon-file-text2'><use xlink:href='#icon-file-text2'></use></svg></label><input id='data-3867a37b-116f-41f7-a89a-e294f4369eae' class='xr-var-data-in' type='checkbox'><label for='data-3867a37b-116f-41f7-a89a-e294f4369eae' title='Show/Hide data repr'><svg class='icon xr-icon-database'><use xlink:href='#icon-database'></use></svg></label><div class='xr-var-attrs'><dl class='xr-attrs'></dl></div><pre class='xr-var-data'>array([[[101057.18   , 101055.91   , 101054.625  , ..., 101056.4375 ,\n",
              "         101056.695  , 101056.9325 ],\n",
              "        [100943.6675 , 100948.8275 , 100953.9875 , ..., 100928.2125 ,\n",
              "         100933.3625 , 100938.505  ],\n",
              "        [100834.4275 , 100843.76   , 100853.1175 , ..., 100807.2475 ,\n",
              "         100816.3075 , 100825.35   ],\n",
              "        ...,\n",
              "        [101337.705  , 101336.7025 , 101335.6925 , ..., 101341.555  ,\n",
              "         101340.265  , 101338.9825 ],\n",
              "        [101394.6575 , 101394.195  , 101393.7325 , ..., 101395.785  ,\n",
              "         101395.4175 , 101395.035  ],\n",
              "        [101454.8575 , 101454.975  , 101455.0825 , ..., 101454.695  ,\n",
              "         101454.7425 , 101454.795  ]],\n",
              "\n",
              "       [[100798.815  , 100797.6325 , 100796.4475 , ..., 100798.16   ,\n",
              "         100798.3725 , 100798.5875 ],\n",
              "        [100684.645  , 100689.6275 , 100694.63   , ..., 100669.6075 ,\n",
              "         100674.6175 , 100679.64   ],\n",
              "        [100573.3325 , 100582.485  , 100591.6225 , ..., 100547.12   ,\n",
              "         100555.8575 , 100564.6025 ],\n",
              "        ...,\n",
              "        [101381.1875 , 101380.4125 , 101379.6425 , ..., 101384.195  ,\n",
              "         101383.205  , 101382.1925 ],\n",
              "        [101436.155  , 101435.9125 , 101435.68   , ..., 101436.365  ,\n",
              "         101436.2825 , 101436.2275 ],\n",
              "        [101494.4525 , 101494.7375 , 101495.0175 , ..., 101493.7125 ,\n",
              "         101493.9625 , 101494.2075 ]],\n",
              "\n",
              "       [[101078.09375, 101076.32625, 101074.56875, ..., 101078.54875,\n",
              "         101078.39875, 101078.24625],\n",
              "        [100968.25375, 100973.14375, 100978.03125, ..., 100954.47375,\n",
              "         100959.06875, 100963.66125],\n",
              "        [100858.85375, 100866.66625, 100874.48375, ..., 100835.36125,\n",
              "         100843.18875, 100851.02875],\n",
              "        ...,\n",
              "        [101628.63625, 101626.63125, 101624.62375, ..., 101634.76875,\n",
              "         101632.72125, 101630.67625],\n",
              "        [101674.05625, 101672.98125, 101671.90875, ..., 101676.42375,\n",
              "         101675.62875, 101674.85125],\n",
              "        [101720.51625, 101720.28625, 101720.05375, ..., 101720.94875,\n",
              "         101720.80125, 101720.66875]],\n",
              "\n",
              "       ...,\n",
              "\n",
              "       [[100976.3375 , 100975.0375 , 100973.72   , ..., 100976.075  ,\n",
              "         100976.1675 , 100976.245  ],\n",
              "        [100855.4075 , 100860.29   , 100865.1875 , ..., 100840.2525 ,\n",
              "         100845.3    , 100850.34   ],\n",
              "        [100739.38   , 100748.935  , 100758.4675 , ..., 100711.7525 ,\n",
              "         100720.95   , 100730.1675 ],\n",
              "        ...,\n",
              "        [101518.7925 , 101516.625  , 101514.46   , ..., 101526.115  ,\n",
              "         101523.675  , 101521.2275 ],\n",
              "        [101563.62   , 101562.405  , 101561.1775 , ..., 101566.7925 ,\n",
              "         101565.73   , 101564.6725 ],\n",
              "        [101610.96   , 101610.5775 , 101610.1925 , ..., 101612.01   ,\n",
              "         101611.6575 , 101611.2975 ]],\n",
              "\n",
              "       [[100830.655  , 100829.4425 , 100828.23   , ..., 100830.21   ,\n",
              "         100830.355  , 100830.5025 ],\n",
              "        [100709.0625 , 100713.8675 , 100718.665  , ..., 100694.825  ,\n",
              "         100699.565  , 100704.305  ],\n",
              "        [100600.435  , 100609.405  , 100618.37   , ..., 100575.09   ,\n",
              "         100583.5375 , 100591.9875 ],\n",
              "        ...,\n",
              "        [101267.71   , 101265.2525 , 101262.7625 , ..., 101276.1075 ,\n",
              "         101273.3125 , 101270.5025 ],\n",
              "        [101333.6825 , 101332.3075 , 101330.9575 , ..., 101337.5625 ,\n",
              "         101336.26   , 101334.975  ],\n",
              "        [101403.35   , 101402.9475 , 101402.535  , ..., 101404.625  ,\n",
              "         101404.2025 , 101403.775  ]],\n",
              "\n",
              "       [[100753.82875, 100752.83375, 100751.82125, ..., 100752.59375,\n",
              "         100753.00625, 100753.40625],\n",
              "        [100633.69125, 100638.67875, 100643.68125, ..., 100617.90625,\n",
              "         100623.15875, 100628.42375],\n",
              "        [100522.96625, 100532.88375, 100542.80125, ..., 100494.81375,\n",
              "         100504.19375, 100513.58375],\n",
              "        ...,\n",
              "        [101535.58625, 101534.77625, 101533.95375, ..., 101538.32375,\n",
              "         101537.41625, 101536.50125],\n",
              "        [101593.74125, 101593.45375, 101593.18125, ..., 101593.97875,\n",
              "         101593.90375, 101593.83125],\n",
              "        [101655.10875, 101655.36375, 101655.61875, ..., 101654.37125,\n",
              "         101654.61875, 101654.86125]]])</pre></li></ul></div></li><li class='xr-section-item'><input id='section-4fc4fae0-5152-4558-a298-7725f58b67a4' class='xr-section-summary-in' type='checkbox' disabled ><label for='section-4fc4fae0-5152-4558-a298-7725f58b67a4' class='xr-section-summary'  title='Expand/collapse section'>Attributes: <span>(0)</span></label><div class='xr-section-inline-details'></div><div class='xr-section-details'><dl class='xr-attrs'></dl></div></li></ul></div></div>"
            ],
            "text/plain": [
              "<xarray.Dataset>\n",
              "Dimensions:  (lat: 178, lon: 360, time: 23)\n",
              "Coordinates:\n",
              "  * time     (time) datetime64[ns] 1993-01-01 1994-01-01 ... 2015-01-01\n",
              "    surface  int64 ...\n",
              "  * lon      (lon) int64 0 1 2 3 4 5 6 7 8 ... 352 353 354 355 356 357 358 359\n",
              "  * lat      (lat) int64 -89 -88 -87 -86 -85 -84 -83 ... 82 83 84 85 86 87 88\n",
              "Data variables:\n",
              "    msl      (time, lat, lon) float64 1.011e+05 1.011e+05 ... 1.017e+05"
            ]
          },
          "metadata": {
            "tags": []
          },
          "execution_count": 27
        }
      ]
    },
    {
      "cell_type": "code",
      "metadata": {
        "id": "dB1yd5q8XveK"
      },
      "source": [
        "obs = xr.open_dataset(era5_target_filename, engine = 'cfgrib')"
      ],
      "execution_count": null,
      "outputs": []
    },
    {
      "cell_type": "code",
      "metadata": {
        "id": "2CR9UKNHXveN"
      },
      "source": [
        "obs_y = obs.groupby('time.year').mean('time').rename({'latitude':'lat', 'longitude': 'lon'})"
      ],
      "execution_count": null,
      "outputs": []
    },
    {
      "cell_type": "code",
      "metadata": {
        "id": "qx2g9b06XveQ",
        "colab": {
          "base_uri": "https://localhost:8080/"
        },
        "outputId": "8a097807-95a6-4974-d40c-fc2a29143358"
      },
      "source": [
        "# REGRIDDING 1 DEGREE (OBS)\n",
        "regridder = xe.Regridder(obs_y, ds_out, 'bilinear')"
      ],
      "execution_count": null,
      "outputs": [
        {
          "output_type": "stream",
          "text": [
            "Create weight file: bilinear_721x1440_178x360.nc\n"
          ],
          "name": "stdout"
        }
      ]
    },
    {
      "cell_type": "code",
      "metadata": {
        "id": "zOex2Ib2XveS",
        "colab": {
          "base_uri": "https://localhost:8080/"
        },
        "outputId": "61bde1b5-ca09-4f42-ecea-a2980e5aba8e"
      },
      "source": [
        "obs_final = regridder(obs_y).rename({'year':'time'})"
      ],
      "execution_count": null,
      "outputs": [
        {
          "output_type": "stream",
          "text": [
            "using dimensions ('lat', 'lon') from data variable msl as the horizontal dimensions for this dataset.\n"
          ],
          "name": "stdout"
        }
      ]
    },
    {
      "cell_type": "code",
      "metadata": {
        "id": "4m1Eb6DkXveU",
        "colab": {
          "base_uri": "https://localhost:8080/"
        },
        "outputId": "0d669228-eaa3-412a-dcb9-7716f3c1c1eb"
      },
      "source": [
        "obs_final['time'] = fct.time # this is needed because xskillscore expects \n",
        "print(obs_final)\n"
      ],
      "execution_count": null,
      "outputs": [
        {
          "output_type": "stream",
          "text": [
            "<xarray.Dataset>\n",
            "Dimensions:  (lat: 178, lon: 360, time: 23)\n",
            "Coordinates:\n",
            "    surface  int64 0\n",
            "    step     timedelta64[ns] 00:00:00\n",
            "    number   int64 0\n",
            "  * time     (time) datetime64[ns] 1993-01-01 1994-01-01 ... 2015-01-01\n",
            "  * lon      (lon) int64 0 1 2 3 4 5 6 7 8 ... 352 353 354 355 356 357 358 359\n",
            "  * lat      (lat) int64 -89 -88 -87 -86 -85 -84 -83 ... 82 83 84 85 86 87 88\n",
            "Data variables:\n",
            "    msl      (time, lat, lon) float64 1.008e+05 1.008e+05 ... 1.005e+05\n",
            "Attributes:\n",
            "    regrid_method:  bilinear\n"
          ],
          "name": "stdout"
        }
      ]
    },
    {
      "cell_type": "markdown",
      "metadata": {
        "id": "zsPhXpaIXveW"
      },
      "source": [
        "## 3. Calculating metrics and skill scores\n",
        "We compute in order:\n",
        "\n",
        "1.    Pearson correlation between observations and ensemble mean\n",
        "2.    Continuous Ranked Probability score (CRPS)\n",
        "3.    Brier Skill Score for the upper tercile\n",
        "\n",
        "All the skill scores are computed using `xskillscore` which uses `properscoring` for the probabilistic ones. "
      ]
    },
    {
      "cell_type": "code",
      "metadata": {
        "id": "PRutjoNOXveX"
      },
      "source": [
        "r = xs.pearson_r(obs_final, fct_final_ensmean, \"time\")"
      ],
      "execution_count": null,
      "outputs": []
    },
    {
      "cell_type": "code",
      "metadata": {
        "id": "SdDBja1oXvea",
        "colab": {
          "base_uri": "https://localhost:8080/",
          "height": 496
        },
        "outputId": "c0aa7cd0-2641-4f8f-8b70-58038fa736a0"
      },
      "source": [
        "#ax = plt.axes(projection=ccrs.Robinson())\n",
        "ax = plt.axes()\n",
        "#p = r[V['xarray_var']].plot(ax=ax, transform=ccrs.PlateCarree(), levels = [-1, 0, 0.3, 0.5, 0.6, 0.8, 0.9, 1], cmap = 'gnuplot')\n",
        "p = r[V['xarray_var']].plot(ax=ax,  levels = [-1, 0, 0.3, 0.5, 0.6, 0.8, 0.9, 1], cmap = 'gnuplot')\n",
        "#ax.set_global(); \n",
        "#ax.coastlines();"
      ],
      "execution_count": null,
      "outputs": [
        {
          "output_type": "display_data",
          "data": {
            "image/png": "[encoded data removed]",
            "text/plain": [
              "<Figure size 1152x576 with 2 Axes>"
            ]
          },
          "metadata": {
            "tags": [],
            "needs_background": "light"
          }
        }
      ]
    },
    {
      "cell_type": "code",
      "metadata": {
        "id": "a9TzYTJIXveb"
      },
      "source": [
        "crps_ensemble = xs.crps_ensemble(obs_final, fct_final.rename({'number':'member'}), dim ='time')"
      ],
      "execution_count": null,
      "outputs": []
    },
    {
      "cell_type": "code",
      "metadata": {
        "id": "PfV-Cdy9Xvef",
        "colab": {
          "base_uri": "https://localhost:8080/",
          "height": 518
        },
        "outputId": "99fe7ff3-c557-4028-b390-f8685b25a033"
      },
      "source": [
        "#ax = plt.axes(projection=ccrs.Robinson())\n",
        "ax = plt.axes()\n",
        "#crps_ensemble[V['xarray_var']].mean('time').plot(ax=ax, transform=ccrs.PlateCarree())\n",
        "crps_ensemble[V['xarray_var']].plot(ax=ax)\n",
        "#ax.set_global(); ax.coastlines();"
      ],
      "execution_count": null,
      "outputs": [
        {
          "output_type": "execute_result",
          "data": {
            "text/plain": [
              "<matplotlib.collections.QuadMesh at 0x7f5caef8e990>"
            ]
          },
          "metadata": {
            "tags": []
          },
          "execution_count": 36
        },
        {
          "output_type": "display_data",
          "data": {
            "image/png": "[encoded data removed]",
            "text/plain": [
              "<Figure size 1152x576 with 2 Axes>"
            ]
          },
          "metadata": {
            "tags": [],
            "needs_background": "light"
          }
        }
      ]
    },
    {
      "cell_type": "code",
      "metadata": {
        "id": "_qV2shXBXvei"
      },
      "source": [
        "brier_score = xs.brier_score(obs_final >  obs_final.quantile(2/3, dim = 'time'), (fct_final > fct_final.quantile(2/3, dim = 'time')).mean(\"number\"), dim = 'time')\n"
      ],
      "execution_count": null,
      "outputs": []
    },
    {
      "cell_type": "code",
      "metadata": {
        "id": "iXzemwrrXvej"
      },
      "source": [
        "baseline = xs.brier_score(obs_final >  obs_final.quantile(2/3, dim = 'time'), xr.DataArray(1/3), dim = 'time')"
      ],
      "execution_count": null,
      "outputs": []
    },
    {
      "cell_type": "code",
      "metadata": {
        "id": "MKuZSSb8Xvem",
        "colab": {
          "base_uri": "https://localhost:8080/",
          "height": 516
        },
        "outputId": "dbabcb4a-f084-4b3a-9f51-98b0f9d5d66f"
      },
      "source": [
        "#ax = plt.axes(projection=ccrs.Orthographic(20, 35))\n",
        "#ax = plt.axes(projection=ccrs.Robinson())\n",
        "ax = plt.axes()\n",
        "#(1 - (brier_score/baseline)).mean(dim = 'time')[V['xarray_var']].plot(ax=ax, transform=ccrs.PlateCarree(), levels = [0, 0.01, 0.05, 0.1, 0.2, 0.3,  1], cmap = 'YlOrBr')\n",
        "(1 - (brier_score/baseline))[V['xarray_var']].plot(ax=ax, levels = [0, 0.01, 0.05, 0.1, 0.2, 0.3,  1], cmap = 'YlOrBr')\n",
        "#ax.set_global(); ax.coastlines();"
      ],
      "execution_count": null,
      "outputs": [
        {
          "output_type": "execute_result",
          "data": {
            "text/plain": [
              "<matplotlib.collections.QuadMesh at 0x7f5ca2acbbd0>"
            ]
          },
          "metadata": {
            "tags": []
          },
          "execution_count": 54
        },
        {
          "output_type": "display_data",
          "data": {
            "image/png": "[encoded data removed]",
            "text/plain": [
              "<Figure size 1152x576 with 2 Axes>"
            ]
          },
          "metadata": {
            "tags": [],
            "needs_background": "light"
          }
        }
      ]
    },
    {
      "cell_type": "code",
      "metadata": {
        "id": "ODu3plkiv_CF"
      },
      "source": [],
      "execution_count": null,
      "outputs": []
    }
  ]
}