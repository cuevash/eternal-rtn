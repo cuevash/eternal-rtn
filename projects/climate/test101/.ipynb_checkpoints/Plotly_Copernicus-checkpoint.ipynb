{
    "cells": [
        {
            "source": [
                "import xarray as xr\n",
                "import plotly.plotly as py\n",
                "import plotly.offline as py_off\n",
                "from plotly.graph_objs import *\n",
                "import numpy as np\n",
                "from scipy.io import netcdf"
            ],
            "outputs": [],
            "metadata": {},
            "cell_type": "code",
            "execution_count": 1
        },
        {
            "source": [
                "import plotly\n",
                "plotly.tools.set_credentials_file(username='', api_key='')"
            ],
            "outputs": [],
            "metadata": {},
            "cell_type": "code",
            "execution_count": 2
        },
        {
            "source": [
                "mapbox_access_token = ''"
            ],
            "outputs": [],
            "metadata": {},
            "cell_type": "code",
            "execution_count": 3
        },
        {
            "source": [
                "from netCDF4 import Dataset"
            ],
            "outputs": [],
            "metadata": {},
            "cell_type": "code",
            "execution_count": 4
        },
        {
            "source": [
                "import cdsapi\n",
                "\n",
                "c = cdsapi.Client()\n",
                "\n",
                "c.retrieve(\n",
                "    'seasonal-postprocessed-single-levels',\n",
                "    {\n",
                "        'originating_centre':'ecmwf',\n",
                "        'system':'5',\n",
                "        'variable':'sea_surface_temperature_anomaly',\n",
                "        'product_type':'ensemble_mean',\n",
                "        'year':'2019',\n",
                "        'month':'01',\n",
                "        'leadtime_month':'3',\n",
                "        'format':'netcdf'\n",
                "    },\n",
                "    'sst.nc')"
            ],
            "outputs": [
                {
                    "name": "stderr",
                    "text": [
                        "2019-02-02 23:10:25,369 INFO Sending request to https://cds.climate.copernicus.eu/api/v2/resources/seasonal-postprocessed-single-levels\n",
                        "2019-02-02 23:10:26,624 INFO Request is queued\n"
                    ],
                    "output_type": "stream"
                }
            ],
            "metadata": {},
            "cell_type": "code",
            "execution_count": null
        },
        {
            "source": [
                "f_path = '/Users/mycomputer/Downloads/sst.nc'"
            ],
            "outputs": [],
            "metadata": {},
            "cell_type": "code",
            "execution_count": 5
        },
        {
            "source": [
                "f = Dataset(f_path)"
            ],
            "outputs": [],
            "metadata": {},
            "cell_type": "code",
            "execution_count": 6
        },
        {
            "source": [
                "f"
            ],
            "outputs": [
                {
                    "data": {
                        "text/plain": [
                            "<class 'netCDF4._netCDF4.Dataset'>\n",
                            "root group (NETCDF3_64BIT data model, file format NETCDF3):\n",
                            "    Conventions: CF-1.6\n",
                            "    history: 2019-02-02 12:22:36 GMT by grib_to_netcdf-2.10.0: /opt/ecmwf/eccodes/bin/grib_to_netcdf -o /cache/data4/adaptor.mars.external-1549110156.1807294-14124-11-6273b51c-1f33-4c2b-9eea-631aa59eafb2.nc /cache/tmp/6273b51c-1f33-4c2b-9eea-631aa59eafb2-adaptor.mars.external-1549110156.181047-14124-4-tmp.grib\n",
                            "    dimensions(sizes): longitude(360), latitude(181), time(1)\n",
                            "    variables(dimensions): float32 \u001b[4mlongitude\u001b[0m(longitude), float32 \u001b[4mlatitude\u001b[0m(latitude), int32 \u001b[4mtime\u001b[0m(time), int16 \u001b[4mssta\u001b[0m(time,latitude,longitude)\n",
                            "    groups: "
                        ]
                    },
                    "metadata": {},
                    "output_type": "execute_result",
                    "execution_count": 7
                }
            ],
            "metadata": {},
            "cell_type": "code",
            "execution_count": 7
        },
        {
            "source": [
                "f.variables.keys()"
            ],
            "outputs": [
                {
                    "data": {
                        "text/plain": [
                            "odict_keys(['longitude', 'latitude', 'time', 'ssta'])"
                        ]
                    },
                    "metadata": {},
                    "output_type": "execute_result",
                    "execution_count": 8
                }
            ],
            "metadata": {},
            "cell_type": "code",
            "execution_count": 8
        },
        {
            "source": [
                "ds2 = xr.open_dataset(xr.backends.NetCDF4DataStore(f))"
            ],
            "outputs": [],
            "metadata": {},
            "cell_type": "code",
            "execution_count": 9
        },
        {
            "source": [
                "df2 = ds2.to_dataframe()"
            ],
            "outputs": [],
            "metadata": {},
            "cell_type": "code",
            "execution_count": 10
        },
        {
            "source": [
                "df2.index[0]"
            ],
            "outputs": [
                {
                    "data": {
                        "text/plain": [
                            "(90.0, 0.0, Timestamp('2019-03-01 00:00:00'))"
                        ]
                    },
                    "metadata": {},
                    "output_type": "execute_result",
                    "execution_count": 11
                }
            ],
            "metadata": {},
            "cell_type": "code",
            "execution_count": 11
        },
        {
            "source": [
                "df_sub = df2.iloc[df2.index.get_level_values('time') == '2019-03-01']"
            ],
            "outputs": [],
            "metadata": {},
            "cell_type": "code",
            "execution_count": 12
        },
        {
            "source": [
                "df_sub.tail()"
            ],
            "outputs": [
                {
                    "data": {
                        "text/html": [
                            "<div>\n",
                            "<style scoped>\n",
                            "    .dataframe tbody tr th:only-of-type {\n",
                            "        vertical-align: middle;\n",
                            "    }\n",
                            "\n",
                            "    .dataframe tbody tr th {\n",
                            "        vertical-align: top;\n",
                            "    }\n",
                            "\n",
                            "    .dataframe thead th {\n",
                            "        text-align: right;\n",
                            "    }\n",
                            "</style>\n",
                            "<table border=\"1\" class=\"dataframe\">\n",
                            "  <thead>\n",
                            "    <tr style=\"text-align: right;\">\n",
                            "      <th></th>\n",
                            "      <th></th>\n",
                            "      <th></th>\n",
                            "      <th>ssta</th>\n",
                            "    </tr>\n",
                            "    <tr>\n",
                            "      <th>latitude</th>\n",
                            "      <th>longitude</th>\n",
                            "      <th>time</th>\n",
                            "      <th></th>\n",
                            "    </tr>\n",
                            "  </thead>\n",
                            "  <tbody>\n",
                            "    <tr>\n",
                            "      <th rowspan=\"5\" valign=\"top\">-90.0</th>\n",
                            "      <th>355.0</th>\n",
                            "      <th>2019-03-01</th>\n",
                            "      <td>NaN</td>\n",
                            "    </tr>\n",
                            "    <tr>\n",
                            "      <th>356.0</th>\n",
                            "      <th>2019-03-01</th>\n",
                            "      <td>NaN</td>\n",
                            "    </tr>\n",
                            "    <tr>\n",
                            "      <th>357.0</th>\n",
                            "      <th>2019-03-01</th>\n",
                            "      <td>NaN</td>\n",
                            "    </tr>\n",
                            "    <tr>\n",
                            "      <th>358.0</th>\n",
                            "      <th>2019-03-01</th>\n",
                            "      <td>NaN</td>\n",
                            "    </tr>\n",
                            "    <tr>\n",
                            "      <th>359.0</th>\n",
                            "      <th>2019-03-01</th>\n",
                            "      <td>NaN</td>\n",
                            "    </tr>\n",
                            "  </tbody>\n",
                            "</table>\n",
                            "</div>"
                        ],
                        "text/plain": [
                            "                               ssta\n",
                            "latitude longitude time            \n",
                            "-90.0    355.0     2019-03-01   NaN\n",
                            "         356.0     2019-03-01   NaN\n",
                            "         357.0     2019-03-01   NaN\n",
                            "         358.0     2019-03-01   NaN\n",
                            "         359.0     2019-03-01   NaN"
                        ]
                    },
                    "metadata": {},
                    "output_type": "execute_result",
                    "execution_count": 13
                }
            ],
            "metadata": {},
            "cell_type": "code",
            "execution_count": 13
        },
        {
            "source": [
                "len(df_sub.index.get_level_values('longitude')), len(df_sub['ssta']) "
            ],
            "outputs": [
                {
                    "data": {
                        "text/plain": [
                            "(65160, 65160)"
                        ]
                    },
                    "metadata": {},
                    "output_type": "execute_result",
                    "execution_count": 14
                }
            ],
            "metadata": {},
            "cell_type": "code",
            "execution_count": 14
        },
        {
            "source": [
                "step = 1.0\n",
                "to_bin = lambda x: np.floor(x / step) * step\n",
                "df_sub[\"latbin\"] = df_sub.index.get_level_values('latitude').map(to_bin)\n",
                "df_sub[\"lonbin\"] = df_sub.index.get_level_values('longitude').map(to_bin)\n",
                "groups = df_sub.groupby((\"latbin\", \"lonbin\"))"
            ],
            "outputs": [
                {
                    "name": "stderr",
                    "text": [
                        "/anaconda/envs/py3/lib/python3.6/site-packages/ipykernel_launcher.py:5: FutureWarning:\n",
                        "\n",
                        "Interpreting tuple 'by' as a list of keys, rather than a single key. Use 'by=[...]' instead of 'by=(...)'. In the future, a tuple will always mean a single key.\n",
                        "\n"
                    ],
                    "output_type": "stream"
                }
            ],
            "metadata": {},
            "cell_type": "code",
            "execution_count": 15
        },
        {
            "source": [
                "df_flat = df_sub.drop_duplicates(subset=['latbin', 'lonbin'])"
            ],
            "outputs": [],
            "metadata": {},
            "cell_type": "code",
            "execution_count": 16
        },
        {
            "source": [
                "df_flat.head()"
            ],
            "outputs": [
                {
                    "data": {
                        "text/html": [
                            "<div>\n",
                            "<style scoped>\n",
                            "    .dataframe tbody tr th:only-of-type {\n",
                            "        vertical-align: middle;\n",
                            "    }\n",
                            "\n",
                            "    .dataframe tbody tr th {\n",
                            "        vertical-align: top;\n",
                            "    }\n",
                            "\n",
                            "    .dataframe thead th {\n",
                            "        text-align: right;\n",
                            "    }\n",
                            "</style>\n",
                            "<table border=\"1\" class=\"dataframe\">\n",
                            "  <thead>\n",
                            "    <tr style=\"text-align: right;\">\n",
                            "      <th></th>\n",
                            "      <th></th>\n",
                            "      <th></th>\n",
                            "      <th>ssta</th>\n",
                            "      <th>latbin</th>\n",
                            "      <th>lonbin</th>\n",
                            "    </tr>\n",
                            "    <tr>\n",
                            "      <th>latitude</th>\n",
                            "      <th>longitude</th>\n",
                            "      <th>time</th>\n",
                            "      <th></th>\n",
                            "      <th></th>\n",
                            "      <th></th>\n",
                            "    </tr>\n",
                            "  </thead>\n",
                            "  <tbody>\n",
                            "    <tr>\n",
                            "      <th rowspan=\"5\" valign=\"top\">90.0</th>\n",
                            "      <th>0.0</th>\n",
                            "      <th>2019-03-01</th>\n",
                            "      <td>-0.000007</td>\n",
                            "      <td>90.0</td>\n",
                            "      <td>0.0</td>\n",
                            "    </tr>\n",
                            "    <tr>\n",
                            "      <th>1.0</th>\n",
                            "      <th>2019-03-01</th>\n",
                            "      <td>-0.000007</td>\n",
                            "      <td>90.0</td>\n",
                            "      <td>1.0</td>\n",
                            "    </tr>\n",
                            "    <tr>\n",
                            "      <th>2.0</th>\n",
                            "      <th>2019-03-01</th>\n",
                            "      <td>-0.000007</td>\n",
                            "      <td>90.0</td>\n",
                            "      <td>2.0</td>\n",
                            "    </tr>\n",
                            "    <tr>\n",
                            "      <th>3.0</th>\n",
                            "      <th>2019-03-01</th>\n",
                            "      <td>-0.000007</td>\n",
                            "      <td>90.0</td>\n",
                            "      <td>3.0</td>\n",
                            "    </tr>\n",
                            "    <tr>\n",
                            "      <th>4.0</th>\n",
                            "      <th>2019-03-01</th>\n",
                            "      <td>-0.000007</td>\n",
                            "      <td>90.0</td>\n",
                            "      <td>4.0</td>\n",
                            "    </tr>\n",
                            "  </tbody>\n",
                            "</table>\n",
                            "</div>"
                        ],
                        "text/plain": [
                            "                                   ssta  latbin  lonbin\n",
                            "latitude longitude time                                \n",
                            "90.0     0.0       2019-03-01 -0.000007    90.0     0.0\n",
                            "         1.0       2019-03-01 -0.000007    90.0     1.0\n",
                            "         2.0       2019-03-01 -0.000007    90.0     2.0\n",
                            "         3.0       2019-03-01 -0.000007    90.0     3.0\n",
                            "         4.0       2019-03-01 -0.000007    90.0     4.0"
                        ]
                    },
                    "metadata": {},
                    "output_type": "execute_result",
                    "execution_count": 17
                }
            ],
            "metadata": {},
            "cell_type": "code",
            "execution_count": 17
        },
        {
            "source": [
                "len(df_flat['lonbin'])"
            ],
            "outputs": [
                {
                    "data": {
                        "text/plain": [
                            "65160"
                        ]
                    },
                    "metadata": {},
                    "output_type": "execute_result",
                    "execution_count": 18
                }
            ],
            "metadata": {},
            "cell_type": "code",
            "execution_count": 18
        },
        {
            "source": [
                "df_no_nan = df_flat[np.isfinite(df_flat['ssta'])]"
            ],
            "outputs": [],
            "metadata": {},
            "cell_type": "code",
            "execution_count": 19
        },
        {
            "source": [
                "len(df_no_nan)"
            ],
            "outputs": [
                {
                    "data": {
                        "text/plain": [
                            "43062"
                        ]
                    },
                    "metadata": {},
                    "output_type": "execute_result",
                    "execution_count": 20
                }
            ],
            "metadata": {},
            "cell_type": "code",
            "execution_count": 20
        },
        {
            "source": [
                "df_no_nan.tail()"
            ],
            "outputs": [
                {
                    "data": {
                        "text/html": [
                            "<div>\n",
                            "<style scoped>\n",
                            "    .dataframe tbody tr th:only-of-type {\n",
                            "        vertical-align: middle;\n",
                            "    }\n",
                            "\n",
                            "    .dataframe tbody tr th {\n",
                            "        vertical-align: top;\n",
                            "    }\n",
                            "\n",
                            "    .dataframe thead th {\n",
                            "        text-align: right;\n",
                            "    }\n",
                            "</style>\n",
                            "<table border=\"1\" class=\"dataframe\">\n",
                            "  <thead>\n",
                            "    <tr style=\"text-align: right;\">\n",
                            "      <th></th>\n",
                            "      <th></th>\n",
                            "      <th></th>\n",
                            "      <th>ssta</th>\n",
                            "      <th>latbin</th>\n",
                            "      <th>lonbin</th>\n",
                            "    </tr>\n",
                            "    <tr>\n",
                            "      <th>latitude</th>\n",
                            "      <th>longitude</th>\n",
                            "      <th>time</th>\n",
                            "      <th></th>\n",
                            "      <th></th>\n",
                            "      <th></th>\n",
                            "    </tr>\n",
                            "  </thead>\n",
                            "  <tbody>\n",
                            "    <tr>\n",
                            "      <th rowspan=\"5\" valign=\"top\">-78.0</th>\n",
                            "      <th>321.0</th>\n",
                            "      <th>2019-03-01</th>\n",
                            "      <td>-0.320773</td>\n",
                            "      <td>-78.0</td>\n",
                            "      <td>321.0</td>\n",
                            "    </tr>\n",
                            "    <tr>\n",
                            "      <th>322.0</th>\n",
                            "      <th>2019-03-01</th>\n",
                            "      <td>-0.320773</td>\n",
                            "      <td>-78.0</td>\n",
                            "      <td>322.0</td>\n",
                            "    </tr>\n",
                            "    <tr>\n",
                            "      <th>323.0</th>\n",
                            "      <th>2019-03-01</th>\n",
                            "      <td>-0.333682</td>\n",
                            "      <td>-78.0</td>\n",
                            "      <td>323.0</td>\n",
                            "    </tr>\n",
                            "    <tr>\n",
                            "      <th>324.0</th>\n",
                            "      <th>2019-03-01</th>\n",
                            "      <td>-0.333682</td>\n",
                            "      <td>-78.0</td>\n",
                            "      <td>324.0</td>\n",
                            "    </tr>\n",
                            "    <tr>\n",
                            "      <th>325.0</th>\n",
                            "      <th>2019-03-01</th>\n",
                            "      <td>-0.333682</td>\n",
                            "      <td>-78.0</td>\n",
                            "      <td>325.0</td>\n",
                            "    </tr>\n",
                            "  </tbody>\n",
                            "</table>\n",
                            "</div>"
                        ],
                        "text/plain": [
                            "                                   ssta  latbin  lonbin\n",
                            "latitude longitude time                                \n",
                            "-78.0    321.0     2019-03-01 -0.320773   -78.0   321.0\n",
                            "         322.0     2019-03-01 -0.320773   -78.0   322.0\n",
                            "         323.0     2019-03-01 -0.333682   -78.0   323.0\n",
                            "         324.0     2019-03-01 -0.333682   -78.0   324.0\n",
                            "         325.0     2019-03-01 -0.333682   -78.0   325.0"
                        ]
                    },
                    "metadata": {},
                    "output_type": "execute_result",
                    "execution_count": 21
                }
            ],
            "metadata": {},
            "cell_type": "code",
            "execution_count": 21
        },
        {
            "source": [
                "#snow = df_no_nan['sfara'].values*2419200*39*10"
            ],
            "outputs": [],
            "metadata": {},
            "cell_type": "code",
            "execution_count": 22
        },
        {
            "source": [
                "df_no_nan = df_no_nan[(df_no_nan.latbin < 90.0) & (df_no_nan.latbin > -90.0)]"
            ],
            "outputs": [],
            "metadata": {},
            "cell_type": "code",
            "execution_count": 23
        },
        {
            "source": [
                " colorscale= [[0.0, '#171c42'], [0.07692307692307693, '#263583'], [0.15384615384615385, '#1a58af'], [0.23076923076923078, '#1a7ebd'], [0.3076923076923077, '#619fbc'], [0.38461538461538464, '#9ebdc8'], [0.46153846153846156, '#d2d8dc'], [0.5384615384615384, '#e6d2cf'], [0.6153846153846154, '#daa998'], [0.6923076923076923, '#cc7b60'], [0.7692307692307693, '#b94d36'], [0.8461538461538461, '#9d2127'], [0.9230769230769231, '#6e0e24'], [1.0, '#3c0911']]"
            ],
            "outputs": [],
            "metadata": {},
            "cell_type": "code",
            "execution_count": 24
        },
        {
            "source": [
                "#colorscale = [[0, 'rgb(54, 50, 153)'], [0.35, 'rgb(17, 123, 215)'],\n",
                "#                [0.5, 'rgb(37, 180, 167)'], [0.6, 'rgb(134, 191, 118)'],\n",
                "#                [0.7, 'rgb(249, 210, 41)'], [1.0, 'rgb(244, 236, 21)']]"
            ],
            "outputs": [],
            "metadata": {},
            "cell_type": "code",
            "execution_count": null
        },
        {
            "source": [
                "data = []\n",
                "\n",
                "data.append(\n",
                "    Scattermapbox(\n",
                "        lon=df_no_nan['lonbin'].values,\n",
                "        lat=df_no_nan['latbin'].values,\n",
                "        mode='markers',\n",
                "        text=df_no_nan['ssta'].values,\n",
                "        marker=Marker(\n",
                "            cmax=2.5,\n",
                "            cmin=-2.5,\n",
                "            color=df_no_nan['ssta'].values,\n",
                "            colorscale=colorscale\n",
                "        ),\n",
                "    )\n",
                ")\n",
                "        \n",
                "layout = Layout(\n",
                "    margin=dict(t=0,b=0,r=0,l=0),\n",
                "    autosize=True,\n",
                "    hovermode='closest',\n",
                "    showlegend=False,\n",
                "    mapbox=dict(\n",
                "        accesstoken=mapbox_access_token,\n",
                "        bearing=0,\n",
                "        center=dict(\n",
                "            lat=38,\n",
                "            lon=-94\n",
                "        ),\n",
                "        pitch=0,\n",
                "        zoom=0,\n",
                "        style='dark'\n",
                "    ),\n",
                ")\n",
                "\n",
                "fig = dict(data=data, layout=layout)\n",
                "py.iplot(fig, filename='ecmwf_sst.html')"
            ],
            "outputs": [
                {
                    "name": "stderr",
                    "text": [
                        "/anaconda/envs/py3/lib/python3.6/site-packages/plotly/graph_objs/_deprecations.py:426: DeprecationWarning:\n",
                        "\n",
                        "plotly.graph_objs.Marker is deprecated.\n",
                        "Please replace it with one of the following more specific types\n",
                        "  - plotly.graph_objs.scatter.Marker\n",
                        "  - plotly.graph_objs.histogram.selected.Marker\n",
                        "  - etc.\n",
                        "\n",
                        "\n",
                        "/anaconda/envs/py3/lib/python3.6/site-packages/plotly/plotly/plotly.py:230: UserWarning:\n",
                        "\n",
                        "Woah there! Look at all those points! Due to browser limitations, the Plotly SVG drawing functions have a hard time graphing more than 500k data points for line charts, or 40k points for other types of charts. Here are some suggestions:\n",
                        "(1) Use the `plotly.graph_objs.Scattergl` trace object to generate a WebGl graph.\n",
                        "(2) Trying using the image API to return an image instead of a graph URL\n",
                        "(3) Use matplotlib\n",
                        "(4) See if you can create your visualization with fewer data points\n",
                        "\n",
                        "If the visualization you're using aggregates points (e.g., box plot, histogram, etc.) you can disregard this warning.\n",
                        "\n"
                    ],
                    "output_type": "stream"
                },
                {
                    "data": {
                        "text/html": [
                            "<iframe id=\"igraph\" scrolling=\"no\" style=\"border:none;\" seamless=\"seamless\" src=\"https://plot.ly/~Dreamshot/9345.embed\" height=\"525px\" width=\"100%\"></iframe>"
                        ],
                        "text/plain": [
                            "<plotly.tools.PlotlyDisplay object>"
                        ]
                    },
                    "metadata": {},
                    "output_type": "execute_result",
                    "execution_count": 25
                }
            ],
            "metadata": {},
            "cell_type": "code",
            "execution_count": 25
        },
        {
            "source": [
                "data = []\n",
                "\n",
                "data.append(\n",
                "    Scattermapbox(\n",
                "        lon=df_no_nan['lonbin'].values,\n",
                "        lat=df_no_nan['latbin'].values,\n",
                "        mode='markers',\n",
                "        text=df_no_nan['anom'].values,\n",
                "        marker=Marker(\n",
                "            cmax=3,\n",
                "            cmin=-3,\n",
                "            color=df_no_nan['anom'].values,\n",
                "            colorscale='RdBu', showscale=True\n",
                "        ),\n",
                "    )\n",
                ")\n",
                "        \n",
                "layout = Layout(\n",
                "    margin=dict(t=0,b=0,r=0,l=0),\n",
                "    autosize=True,\n",
                "    #title='Sea Surface Temperature Anomaly (°C)',\n",
                "    hovermode='closest',\n",
                "    showlegend=False,\n",
                "    mapbox=dict(\n",
                "        accesstoken=mapbox_access_token,\n",
                "        bearing=0,\n",
                "        center=dict(\n",
                "            lat=38,\n",
                "            lon=-94\n",
                "        ),\n",
                "        pitch=0,\n",
                "        zoom=0,\n",
                "        style='light'\n",
                "    )\n",
                ")\n",
                "\n",
                "fig = dict(data=data, layout=layout)\n",
                "py.iplot(fig, filename='ssta.html')\n"
            ],
            "outputs": [],
            "metadata": {},
            "cell_type": "code",
            "execution_count": null
        }
    ],
    "metadata": {
        "kernelspec": {
            "name": "python3",
            "language": "python",
            "display_name": "Python 3"
        },
        "language_info": {
            "name": "python",
            "version": "3.6.6",
            "mimetype": "text/x-python",
            "file_extension": ".py",
            "pygments_lexer": "ipython3",
            "codemirror_mode": {
                "name": "ipython",
                "version": 3
            },
            "nbconvert_exporter": "python"
        }
    },
    "nbformat": 4,
    "nbformat_minor": 2
}