{
 "cells": [
  {
   "cell_type": "code",
   "execution_count": null,
   "id": "bf61b5ed-2960-4381-8f17-5505e7320535",
   "metadata": {},
   "outputs": [],
   "source": [
    "\"\"\"\n",
    "this is an example os how to use the get_era5() function\n",
    "\"\"\"\n",
    "import cdsapi\n",
    "import xarray as xr\n",
    "from urllib.request import urlopen\n",
    "import urllib3\n",
    "import proplot as plot\n",
    "import matplotlib.pyplot as plt\n",
    "import numpy as np\n",
    "import pandas as pd\n",
    "import get_era5\n",
    "\n"
   ]
  },
  {
   "cell_type": "code",
   "execution_count": null,
   "id": "5b62800e-1682-48a9-9d4f-f8a31c827d00",
   "metadata": {},
   "outputs": [],
   "source": [
    "urllib3.disable_warnings(urllib3.exceptions.InsecureRequestWarning)\n",
    "\n",
    "\n",
    "# get the data using the get_era5() function\n",
    "# available here: https://gist.github.com/lgloege/f461f8d192e99fe7c36760a7a856b007\n",
    "ds_out = get_era5(\n",
    "    dataset_name=\"reanalysis-era5-single-levels-monthly-means\",\n",
    "    var=\"2m_temperature\",\n",
    "    dates=[\"2021-02-01\"],\n",
    "    grid=[0.25, 0.25],\n",
    ")\n",
    "\n",
    "# create figure and axes\n",
    "fig, ax = plot.subplots(\n",
    "    axwidth=6,\n",
    "    tight=True,\n",
    "    proj=\"robin\",\n",
    "    proj_kw={\"lon_0\": -0},\n",
    ")\n",
    "\n",
    "# format options\n",
    "ax.format(\n",
    "    land=False,\n",
    "    coast=True,\n",
    "    innerborders=True,\n",
    "    borders=True,\n",
    "    labels=False,\n",
    "    latlines=None,\n",
    "    lonlines=None,\n",
    ")\n",
    "\n",
    "# plot data\n",
    "map1 = ax.contourf(\n",
    "    ds_out[\"longitude\"],\n",
    "    ds_out[\"latitude\"],\n",
    "    ds_out[\"t2m\"].squeeze() - 273.15,\n",
    "    vmin=-30,\n",
    "    vmax=30,\n",
    "    cmap=\"IceFire\",\n",
    "    extend=\"both\",\n",
    "    levels=20,\n",
    ")\n",
    "\n",
    "# set the title\n",
    "ax.set_title(\"ERA5 monthly mean 2m temperature - February 2021\", fontsize=14)\n",
    "\n",
    "# set the colorbar\n",
    "col = ax.colorbar(map1, loc=\"b\", shrink=0.5, values=np.arange(-30, 30))\n",
    "col.set_label(\"$\\circ$C\", labelpad=0, size=12)\n",
    "col.ax.tick_params(labelsize=12)\n"
   ]
  }
 ],
 "metadata": {
  "kernelspec": {
   "display_name": "Python 3",
   "language": "python",
   "name": "python3"
  },
  "language_info": {
   "codemirror_mode": {
    "name": "ipython",
    "version": 3
   },
   "file_extension": ".py",
   "mimetype": "text/x-python",
   "name": "python",
   "nbconvert_exporter": "python",
   "pygments_lexer": "ipython3",
   "version": "3.8.13"
  }
 },
 "nbformat": 4,
 "nbformat_minor": 5
}
