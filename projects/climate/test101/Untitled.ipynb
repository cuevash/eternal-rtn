{
 "cells": [
  {
   "cell_type": "code",
   "execution_count": 1,
   "id": "bf61b5ed-2960-4381-8f17-5505e7320535",
   "metadata": {},
   "outputs": [],
   "source": [
    "\"\"\"\n",
    "this is an example os how to use the get_era5() function\n",
    "\"\"\"\n",
    "import cdsapi\n",
    "import xarray as xr\n",
    "from urllib.request import urlopen\n",
    "import urllib3\n",
    "import proplot as plot\n",
    "import matplotlib.pyplot as plt\n",
    "import numpy as np\n",
    "import pandas as pd\n",
    "import get_era5\n",
    "\n"
   ]
  },
  {
   "cell_type": "code",
   "execution_count": 2,
   "id": "5b62800e-1682-48a9-9d4f-f8a31c827d00",
   "metadata": {},
   "outputs": [
    {
     "ename": "TypeError",
     "evalue": "'module' object is not callable",
     "output_type": "error",
     "traceback": [
      "\u001b[0;31m---------------------------------------------------------------------------\u001b[0m",
      "\u001b[0;31mTypeError\u001b[0m                                 Traceback (most recent call last)",
      "Input \u001b[0;32mIn [2]\u001b[0m, in \u001b[0;36m<cell line: 6>\u001b[0;34m()\u001b[0m\n\u001b[1;32m      1\u001b[0m urllib3\u001b[38;5;241m.\u001b[39mdisable_warnings(urllib3\u001b[38;5;241m.\u001b[39mexceptions\u001b[38;5;241m.\u001b[39mInsecureRequestWarning)\n\u001b[1;32m      4\u001b[0m \u001b[38;5;66;03m# get the data using the get_era5() function\u001b[39;00m\n\u001b[1;32m      5\u001b[0m \u001b[38;5;66;03m# available here: https://gist.github.com/lgloege/f461f8d192e99fe7c36760a7a856b007\u001b[39;00m\n\u001b[0;32m----> 6\u001b[0m ds_out \u001b[38;5;241m=\u001b[39m \u001b[43mget_era5\u001b[49m\u001b[43m(\u001b[49m\n\u001b[1;32m      7\u001b[0m \u001b[43m    \u001b[49m\u001b[43mdataset_name\u001b[49m\u001b[38;5;241;43m=\u001b[39;49m\u001b[38;5;124;43m\"\u001b[39;49m\u001b[38;5;124;43mreanalysis-era5-single-levels-monthly-means\u001b[39;49m\u001b[38;5;124;43m\"\u001b[39;49m\u001b[43m,\u001b[49m\n\u001b[1;32m      8\u001b[0m \u001b[43m    \u001b[49m\u001b[43mvar\u001b[49m\u001b[38;5;241;43m=\u001b[39;49m\u001b[38;5;124;43m\"\u001b[39;49m\u001b[38;5;124;43m2m_temperature\u001b[39;49m\u001b[38;5;124;43m\"\u001b[39;49m\u001b[43m,\u001b[49m\n\u001b[1;32m      9\u001b[0m \u001b[43m    \u001b[49m\u001b[43mdates\u001b[49m\u001b[38;5;241;43m=\u001b[39;49m\u001b[43m[\u001b[49m\u001b[38;5;124;43m\"\u001b[39;49m\u001b[38;5;124;43m2021-02-01\u001b[39;49m\u001b[38;5;124;43m\"\u001b[39;49m\u001b[43m]\u001b[49m\u001b[43m,\u001b[49m\n\u001b[1;32m     10\u001b[0m \u001b[43m    \u001b[49m\u001b[43mgrid\u001b[49m\u001b[38;5;241;43m=\u001b[39;49m\u001b[43m[\u001b[49m\u001b[38;5;241;43m0.25\u001b[39;49m\u001b[43m,\u001b[49m\u001b[43m \u001b[49m\u001b[38;5;241;43m0.25\u001b[39;49m\u001b[43m]\u001b[49m\u001b[43m,\u001b[49m\n\u001b[1;32m     11\u001b[0m \u001b[43m)\u001b[49m\n\u001b[1;32m     13\u001b[0m \u001b[38;5;66;03m# create figure and axes\u001b[39;00m\n\u001b[1;32m     14\u001b[0m fig, ax \u001b[38;5;241m=\u001b[39m plot\u001b[38;5;241m.\u001b[39msubplots(\n\u001b[1;32m     15\u001b[0m     axwidth\u001b[38;5;241m=\u001b[39m\u001b[38;5;241m6\u001b[39m,\n\u001b[1;32m     16\u001b[0m     tight\u001b[38;5;241m=\u001b[39m\u001b[38;5;28;01mTrue\u001b[39;00m,\n\u001b[1;32m     17\u001b[0m     proj\u001b[38;5;241m=\u001b[39m\u001b[38;5;124m\"\u001b[39m\u001b[38;5;124mrobin\u001b[39m\u001b[38;5;124m\"\u001b[39m,\n\u001b[1;32m     18\u001b[0m     proj_kw\u001b[38;5;241m=\u001b[39m{\u001b[38;5;124m\"\u001b[39m\u001b[38;5;124mlon_0\u001b[39m\u001b[38;5;124m\"\u001b[39m: \u001b[38;5;241m-\u001b[39m\u001b[38;5;241m0\u001b[39m},\n\u001b[1;32m     19\u001b[0m )\n",
      "\u001b[0;31mTypeError\u001b[0m: 'module' object is not callable"
     ]
    }
   ],
   "source": [
    "urllib3.disable_warnings(urllib3.exceptions.InsecureRequestWarning)\n",
    "\n",
    "\n",
    "# get the data using the get_era5() function\n",
    "# available here: https://gist.github.com/lgloege/f461f8d192e99fe7c36760a7a856b007\n",
    "ds_out = get_era5(\n",
    "    dataset_name=\"reanalysis-era5-single-levels-monthly-means\",\n",
    "    var=\"2m_temperature\",\n",
    "    dates=[\"2021-02-01\"],\n",
    "    grid=[0.25, 0.25],\n",
    ")\n",
    "\n",
    "# create figure and axes\n",
    "fig, ax = plot.subplots(\n",
    "    axwidth=6,\n",
    "    tight=True,\n",
    "    proj=\"robin\",\n",
    "    proj_kw={\"lon_0\": -0},\n",
    ")\n",
    "\n",
    "# format options\n",
    "ax.format(\n",
    "    land=False,\n",
    "    coast=True,\n",
    "    innerborders=True,\n",
    "    borders=True,\n",
    "    labels=False,\n",
    "    latlines=None,\n",
    "    lonlines=None,\n",
    ")\n",
    "\n",
    "# plot data\n",
    "map1 = ax.contourf(\n",
    "    ds_out[\"longitude\"],\n",
    "    ds_out[\"latitude\"],\n",
    "    ds_out[\"t2m\"].squeeze() - 273.15,\n",
    "    vmin=-30,\n",
    "    vmax=30,\n",
    "    cmap=\"IceFire\",\n",
    "    extend=\"both\",\n",
    "    levels=20,\n",
    ")\n",
    "\n",
    "# set the title\n",
    "ax.set_title(\"ERA5 monthly mean 2m temperature - February 2021\", fontsize=14)\n",
    "\n",
    "# set the colorbar\n",
    "col = ax.colorbar(map1, loc=\"b\", shrink=0.5, values=np.arange(-30, 30))\n",
    "col.set_label(\"$\\circ$C\", labelpad=0, size=12)\n",
    "col.ax.tick_params(labelsize=12)\n"
   ]
  }
 ],
 "metadata": {
  "kernelspec": {
   "display_name": "Python 3 (ipykernel)",
   "language": "python",
   "name": "python3"
  },
  "language_info": {
   "codemirror_mode": {
    "name": "ipython",
    "version": 3
   },
   "file_extension": ".py",
   "mimetype": "text/x-python",
   "name": "python",
   "nbconvert_exporter": "python",
   "pygments_lexer": "ipython3",
   "version": "3.10.6"
  }
 },
 "nbformat": 4,
 "nbformat_minor": 5
}
